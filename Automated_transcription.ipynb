{
 "cells": [
  {
   "cell_type": "markdown",
   "metadata": {},
   "source": [
    "# Automatic transcription of interviews using vosk\n",
    "\n",
    "Summary:\n",
    "1. Generate the transcripts of audio files\n",
    "2. Evaluation of the transcripts generated\n",
    "3. Influence of the buffer size on the word error rate\n",
    "\n",
    "In this notebook we explain how we used and evaluated a vosk autoatic speech recognition model for the transcription of spontaneous speech in four recorded interviews. In each interview, there are 2 people in the conservations (an interviewer asking questions, and a person being interviewed answering). For each interview, we have at our disposal an audio file of the recorded interview and a hand written transcript of the interview. For a matter of time we only analysed the transcription of the first 12 minutes of each interview."
   ]
  },
  {
   "cell_type": "markdown",
   "metadata": {},
   "source": [
    "## 1. Generate the transcripts of audio files\n",
    "\n",
    "This part of the notebook is to explain how the automated transcription of the audio files of the interviews was done using the vosk-API.\n",
    "\n",
    "The audio files being quite long we transcribed only the first 12 minutes of each audio file. The audio files used are:\n",
    "- Alexis.m4a\n",
    "- Caitlyn.m4a\n",
    "- Clément1.m4a\n",
    "- Clément2.m4a\n",
    "\n",
    "Fist the audio files are converted to .wav Mono PCM format using the `ConvertToWav.py`. We get the following files which we saved in a seperate corpus_wav file (not on github because takes too much memory):\n",
    "- alexis.wav\n",
    "- caitlyn.wav\n",
    "- clement1.wav\n",
    "- clement2.wav\n",
    "\n",
    "We can check the parameters of one of these wave files with the `getparams()` method:"
   ]
  },
  {
   "cell_type": "code",
   "execution_count": 1,
   "metadata": {},
   "outputs": [
    {
     "data": {
      "text/plain": [
       "_wave_params(nchannels=1, sampwidth=2, framerate=32000, nframes=216603648, comptype='NONE', compname='not compressed')"
      ]
     },
     "execution_count": 1,
     "metadata": {},
     "output_type": "execute_result"
    }
   ],
   "source": [
    "import wave\n",
    "\n",
    "wf_caitlyn = wave.open(\"corpus_wav/caitlyn.wav\")\n",
    "wf_caitlyn.getparams()"
   ]
  },
  {
   "cell_type": "markdown",
   "metadata": {},
   "source": [
    "Note that `nchanels=1` so we do have Mono format. The total number of frames is `nframes=216603648` with a `framerate=32000` so we have about $ {\\textrm{nframes} \\over{\\textrm{framerate}}} = 6769 \\textrm{s} = 1\\textrm{h}53$ of audio time for Caitlyn. The automatic speek recognition vosk model can take some time to run depending on the machine performance, in our case a bit shorter than the duration of the audio file played in norlmal speed (1h53). So we only transcribe the first 12 minutes of audio for the 4 files we have.\n",
    "\n",
    "For this, we run the automatic transcription with vosk api (see [https://github.com/alphacep/vosk-api](https://github.com/alphacep/vosk-api)). We use the French ASR vosk model LinTO (1.4 GB) which can be downloaded at [https://alphacephei.com/vosk/models](https://alphacephei.com/vosk/models).\n",
    "\n",
    "The `transcribe()` function takes as argument the wav file to be transcribed and returns the outputs of the vosk model: a dictionnary with the transcription for each words (or sometimes group of words), the start and end time of each word, the confidence level of the transcription, as well as the whole text transcribed.\n",
    "\n",
    "In the `transcribe()` function, at each iteration, the vosk model takes as input a buffer of bytes encoding the audio file. Once it has enough bytes to transcribe a word it adds it to its output dictionary.\n",
    "\n",
    "Therefore we need to chose a buffer size that we pass in the vosk model at each iteration. We tried different buffer sizes (going from 1 frame to the total number of frames in 12 minutes) and noticed that it only has a small impact on the transcription. The WER does not depend a lot on the buffer size (see part **3.** of the notebook for more details). We chose `buffer_size=32000` which is equal to the frame rate, so it corresponds to 1 second of audio file."
   ]
  },
  {
   "cell_type": "code",
   "execution_count": 2,
   "metadata": {},
   "outputs": [],
   "source": [
    "import wave\n",
    "import json\n",
    "import time\n",
    "import vosk\n",
    "from vosk import Model, KaldiRecognizer, SetLogLevel\n",
    "\n",
    "# We load the vosk model. This takes a few seconds.\n",
    "model = vosk.Model(\"vosk-model-fr-0.6-linto\")\n",
    "SetLogLevel(0)  # To control how much output we want\n",
    "\n",
    "nb_sec = 720  # 12 min\n",
    "\n",
    "# Function to transcribe an audio file with the vosk model.\n",
    "def transcribe(file_path, buffer_size=32000, nb_sec=nb_sec):\n",
    "    start_time = time.time()  # To check the time of transciption\n",
    "    wf = wave.open(file_path)\n",
    "    rec = KaldiRecognizer(model, wf.getframerate())\n",
    "    nb_buffers = wf.getframerate() * nb_sec // buffer_size\n",
    "    for i in range(nb_buffers):\n",
    "        # For each iteration readframes() removes the frames already read.\n",
    "        buffer = wf.readframes(buffer_size)\n",
    "        rec.AcceptWaveform(buffer)\n",
    "    result_json_str = rec.FinalResult()\n",
    "    result = json.loads(result_json_str)\n",
    "    wf.close()\n",
    "    end_time = time.time()\n",
    "    delta_time = end_time - start_time\n",
    "    return result, delta_time\n"
   ]
  },
  {
   "cell_type": "markdown",
   "metadata": {},
   "source": [
    "For each of the 4 audio files we run the `transcribe()` function, print the time it takes for the transcription and save the resuts in the [Transcripts](Transcripts) folder."
   ]
  },
  {
   "cell_type": "code",
   "execution_count": 3,
   "metadata": {},
   "outputs": [
    {
     "name": "stdout",
     "output_type": "stream",
     "text": [
      "Transcription time alexis: 387.3438868522644 s\n",
      "Transcription time caitlyn: 285.13012981414795 s\n",
      "Transcription time clement1: 360.4634780883789 s\n",
      "Transcription time clement2: 301.48654103279114 s\n"
     ]
    }
   ],
   "source": [
    "# Names to identify each audio file.\n",
    "list_names = [\"alexis\",\n",
    "              \"caitlyn\",\n",
    "              \"clement1\",\n",
    "              \"clement2\"]\n",
    "\n",
    "for name in list_names:\n",
    "    file_path = \"corpus_wav/\" + name + \".wav\"\n",
    "    result, delta_time = transcribe(file_path)\n",
    "    \n",
    "    print(\"Transcription time \" + name + \": \" + str(delta_time) + \" s\")\n",
    "    \n",
    "    # We save the output of the vosk model in a json file.\n",
    "    with open(\"trans/vosk_result_\" + name + \".json\", \"w\") as outfile:  \n",
    "        json.dump(result, outfile, indent=4, sort_keys=True)\n",
    "\n",
    "    # We save the text of the transcript in a seperate .txt file\n",
    "    with open(\"trans/vosk_\" + name + \".txt\", \"w\") as outfile:  \n",
    "        outfile.write(result[\"text\"])"
   ]
  },
  {
   "cell_type": "markdown",
   "metadata": {},
   "source": [
    "We get the following json files for the output results of the vosk model:\n",
    "- [vosk_result_alexis.json](Transcripts/vosk_result_alexis.json)\n",
    "- [vosk_result_caitlyn.json](Transcripts/vosk_result_caitlyn.json)\n",
    "- [vosk_result_clement1.json](Transcripts/vosk_result_clement1.json)\n",
    "- [vosk_result_clement2.json](Transcripts/vosk_result_clement2.json)\n",
    "\n",
    "And the following texts for the transcripts:\n",
    "- [vosk_alexis.txt](Transcripts/vosk_alexis.txt)\n",
    "- [vosk_caitlyn.txt](Transcripts/vosk_caitlyn.txt)\n",
    "- [vosk_clement1.txt](Transcripts/vosk_clement1.txt)\n",
    "- [vosk_clement2.txt](Transcripts/vosk_clement2.txt)\n",
    "\n",
    "Here is an extract of the begining of each text file outputed by the vosk model:"
   ]
  },
  {
   "cell_type": "code",
   "execution_count": 4,
   "metadata": {},
   "outputs": [
    {
     "name": "stdout",
     "output_type": "stream",
     "text": [
      "alexis:\n",
      "donc second l'enregistrement est lancé un esprit bien ton accord pour que pour que pour enregistrer au problème donc que je suis avec alexis il est dix-huit heures on est le vingt-cinq juillet battus de sexe masculin tu as vingt-et-un vingt-deux ans vingt-et-un vingt-et-un tu viens de région parisienne de salle de bain merci de yopougon pour le temps accordé à mon intérieur un tapis de te libérer facilement un peu en vacances sur le commencement je finis mon stage de quatre de manu le dix juille\n",
      "\n",
      "caitlyn:\n",
      "ok c'est bon j'ai lancé l'enregistrement est-ce que du coup j'ai bien ton accord pour que je sois enregistré oui non qu'est jessie avec kathleen il est quatorze heures vingt-deux le dix-huit août plus de sexe féminin will sawyer est d'accord que fut broches me trompe pas et tu as vingt-deux ans vingt-et-un vingt vingt-deux ans en novembre on y est tu viens de autour de brest région brestoise ouais grosso modo le relecq oui oui c'est ça l'expérience c'est ça a maintenu la mémoire est toujours la \n",
      "\n",
      "clement1:\n",
      "tu aimes truc qui lancer l'enregistrement comme tu dis euh est-ce que tu me donnes bien ton accord pour que je soit enregistré voui tu as mon accord pour que ce soit enregistrée c'est hyper et du coup comme je t'ai dit je vais te présenter rapidement pour commencer ok je suis avec clément il est dix-sept heures quarante cul de sexe masculin humour vingt-cinq juillet au pas tes me trompe fort ou c'est cent vingt ans tué à tuer paris chipote voilà donc si tu te dis un truc tu as peu de questions n\n",
      "\n",
      "clement2:\n",
      "nos badges lancer l'enregistrement que j bien ton accord pour euh pour euh pour le faire enregistrer je crois que tu l'as déjà là qu'est le problème nickel et oui je te préviens juste malayalam y a les caméras mais vieux donnerai juste les audios un heure donc t'as pas à t'inquiéter de ta caméra pas mettre de masque de type bas chez suis avec clément il est quinze heures dix sont nés le vingt juillet dans vingt-six juillet mardi six juillet deux mille vingt cul de sexe masculin tu as vingt-et-un\n",
      "\n"
     ]
    }
   ],
   "source": [
    "for name in list_names:\n",
    "    with open(\"Transcripts/vosk_\" + name + \".txt\", \"r\") as file:\n",
    "        print(name + \":\" + \"\\n\" + file.read()[:500] + \"\\n\")"
   ]
  },
  {
   "cell_type": "markdown",
   "metadata": {},
   "source": [
    "From reading the beginning of the texts we notice that there are still some errors making the transcript not completely understandable."
   ]
  },
  {
   "cell_type": "markdown",
   "metadata": {},
   "source": [
    "## 2. Evaluation of the transcripts generated\n",
    "\n",
    "In this part of the notebook, we try to compare manual transcripts with the transcripts automatically generated using vosk.\n",
    "\n",
    "Those transcripts can be found in the [Transcripts](Transcripts/) folder. They are named after the person being interviewed. For each person, only the first 12 minutes of the audio record have been transcribed using vosk. So we have to take into account only the text corresponding to the first 12 minutes of audio in the manual transcripts. To do so, we search manually the last word being said after 12 minutes and take note of total number of caracters from the begining till the end of the last word. We then cut off the rest of the text in the `comparison()` function (see code below for more details).\n",
    "\n",
    "Transcripts written manually:\n",
    "- [alexis.docx](Transcripts/alexis.docx)\n",
    "- [caitlyn.docx](Transcripts/caitlyn.docx)\n",
    "- [clement1.docx](Transcripts/clement1.docx)\n",
    "- [clement2.docx](Transcripts/clement2.docx)\n",
    "\n",
    "Transcripts automatically generated with vosk:\n",
    "- [vosk_alexis.txt](Transcripts/vosk_alexis.txt)\n",
    "- [vosk_caitlyn.txt](Transcripts/vosk_caitlyn.txt)\n",
    "- [vosk_clement1.txt](Transcripts/vosk_clement1.txt)\n",
    "- [vosk_clement2.txt](Transcripts/vosk_clement2.txt)\n",
    "\n",
    "When comparing two corresponding texts, the first thing we notice is that the vosk transcripts do not contain any punctuation, capital letters or paragraphs, whereas the human transcripts contains punctuation, some onomatopoeias which are not in the vosk transcripts (such as \"humm\"), and a special syntax with \"#\" at the beginning and at the end of some paragraphs to indicate that the interviewer is speaking. Another difference is that the numbers in are written in full letters in the vosk transcripts, and with digits in the human transcript. Of course, in addition to these differences there are some errors of transcription\n",
    "\n",
    "Those differences complicate the comparison between the transcripts. The best thing to do would be to find a way to automatically add punctuation to the vosk transcripts. But this being quite hard to do, we decided to (automatically) remove the punctuation from the human transcript, remove the \"#\", the line breaks (marked as \"\\n\"), as well as remove some onomatopeas (\"humm\") and convert digit numbers to written letters. All this is done in the `remove_punctuation()` function. We get simplified manual transcripts.\n",
    "\n",
    "Once this is done, the simplified manual transcripts are considered as the ground truth and we compute the word error rate (`'wer'`) for the vosk transcripts in the `comparison()` function."
   ]
  },
  {
   "cell_type": "code",
   "execution_count": 5,
   "metadata": {},
   "outputs": [
    {
     "data": {
      "text/plain": [
       "{'alexis': {'wer': 0.36015006252605253,\n",
       "  'mer': 0.35717238528317485,\n",
       "  'wil': 0.5027477120564747,\n",
       "  'wip': 0.4972522879435252,\n",
       "  'hits': 1555,\n",
       "  'substitutions': 452,\n",
       "  'deletions': 392,\n",
       "  'insertions': 20},\n",
       " 'caitlyn': {'wer': 0.3766914011348756,\n",
       "  'mer': 0.3673903788846318,\n",
       "  'wil': 0.537274685032102,\n",
       "  'wip': 0.4627253149678981,\n",
       "  'hits': 1486,\n",
       "  'substitutions': 539,\n",
       "  'deletions': 266,\n",
       "  'insertions': 58},\n",
       " 'clement1': {'wer': 0.457033125300048,\n",
       "  'mer': 0.4469483568075117,\n",
       "  'wil': 0.6246789232756114,\n",
       "  'wip': 0.3753210767243886,\n",
       "  'hits': 1178,\n",
       "  'substitutions': 550,\n",
       "  'deletions': 355,\n",
       "  'insertions': 47},\n",
       " 'clement2': {'wer': 0.4313960455362493,\n",
       "  'mer': 0.42328042328042326,\n",
       "  'wil': 0.594222838202449,\n",
       "  'wip': 0.405777161797551,\n",
       "  'hits': 981,\n",
       "  'substitutions': 408,\n",
       "  'deletions': 280,\n",
       "  'insertions': 32}}"
      ]
     },
     "execution_count": 5,
     "metadata": {},
     "output_type": "execute_result"
    }
   ],
   "source": [
    "import jiwer\n",
    "import docx\n",
    "import jiwer\n",
    "import num2words\n",
    "\n",
    "# get_text() converts the manual transcript docx files to a python string.\n",
    "def get_text(filename):\n",
    "    doc = docx.Document(filename)\n",
    "    full_text = []\n",
    "    for para in doc.paragraphs:\n",
    "        full_text.append(para.text)\n",
    "    return '\\n'.join(full_text)  # type: str\n",
    "\n",
    "def remove_punctuation(text):\n",
    "    punctuations = \".,?!#:;°\"  # punctuation marks to be removed\n",
    "    clean_txt = \"\"\n",
    "    for char in text:\n",
    "        if char not in punctuations:\n",
    "            clean_txt += char\n",
    "\n",
    "    clean_txt = clean_txt.lower()  # Capital letters replaced with lower case\n",
    "    clean_txt = clean_txt.replace(\"\\xa0\", \"\")  # Remove non-breaking spaces\n",
    "    clean_txt = clean_txt.replace(\" \\n \", \" \")  # Remove line breaks\n",
    "    clean_txt = clean_txt.replace(\"\\n\", \"\")\n",
    "    clean_txt = clean_txt.replace(\" humm \", \" \")  # Remove \"humm\"\n",
    "    clean_txt = clean_txt.replace(\"’\", \"'\")  # Apostrophe difference (’ vs ')\n",
    "\n",
    "    # We check each word seperatly to see if it is a number written in digits.\n",
    "    # If it is a digit number we replace it with the matching number in letters.\n",
    "    for word in str.split(clean_txt):\n",
    "        if word.isdigit():\n",
    "            len_word = len(word)\n",
    "            number_word = num2words.num2words(int(word), lang='fr')\n",
    "            pos = clean_txt.find(word)\n",
    "            clean_txt = clean_txt[:pos] + number_word + clean_txt[pos+len_word:]  \n",
    "\n",
    "    # num2words doesn't write 21 correctly so we correct it.\n",
    "    clean_txt = clean_txt.replace(\"vingt et un\", \"vingt-et-un\")\n",
    "\n",
    "    return clean_txt\n",
    "\n",
    "# The names used to identify the 4 pairs of transcripts studied.\n",
    "list_names = [\"alexis\", \n",
    "              \"caitlyn\",\n",
    "              \"clement1\",\n",
    "              \"clement2\"]\n",
    "\n",
    "# Number of caracters in the manual transcripts corresponding to the first 12 min\n",
    "# of audio. This has been determined manually.\n",
    "stop_12_min = {\"alexis\": 12313, \n",
    "               \"caitlyn\" : 12033,\n",
    "               \"clement1\" : 10786,\n",
    "               \"clement2\" : 8753}\n",
    "\n",
    "# We comptute the WER for a vosk transcript and other types of error mesures\n",
    "# in the comparison() function using the jiwer library.\n",
    "def comparison(manual_file, vosk_file, nb_caracters):\n",
    "    text = get_text(manual_file)  # manual transcription\n",
    "    clean_text = remove_punctuation(text)  # simplified manual transcrition\n",
    "    clean_text = clean_text[:nb_caracters]  # first 12 minutes in transcript\n",
    "    with open(vosk_file,'r') as file:\n",
    "        vosk_text = file.read()  # vosk transcription\n",
    "    result = jiwer.compute_measures(clean_text, vosk_text)  # computes WER...\n",
    "    return result\n",
    "\n",
    "# We compute the errors mesures for all the 4 transcriptions.\n",
    "error_mesures = {}\n",
    "for name in list_names:\n",
    "    manual_file = \"Transcripts/\" + name + \".docx\"\n",
    "    vosk_file = \"Transcripts/vosk_\" + name + \".txt\"\n",
    "    nb_caracters = stop_12_min[name]\n",
    "    error_mesures[name] = comparison(manual_file, vosk_file, nb_caracters)\n",
    "    \n",
    "error_mesures"
   ]
  },
  {
   "cell_type": "markdown",
   "metadata": {},
   "source": [
    "We save the results in a json file (see [error_mesures.json](Transcripts/error_mesures.json)):"
   ]
  },
  {
   "cell_type": "code",
   "execution_count": 6,
   "metadata": {},
   "outputs": [],
   "source": [
    "import json\n",
    "\n",
    "with open(\"Transcripts/error_mesures.json\", \"w\") as outfile:  \n",
    "    json.dump(error_mesures, outfile, indent=4, sort_keys=True)"
   ]
  },
  {
   "cell_type": "markdown",
   "metadata": {},
   "source": [
    "To better read the result we display it as a data frame."
   ]
  },
  {
   "cell_type": "code",
   "execution_count": 7,
   "metadata": {},
   "outputs": [
    {
     "data": {
      "text/html": [
       "<div>\n",
       "<style scoped>\n",
       "    .dataframe tbody tr th:only-of-type {\n",
       "        vertical-align: middle;\n",
       "    }\n",
       "\n",
       "    .dataframe tbody tr th {\n",
       "        vertical-align: top;\n",
       "    }\n",
       "\n",
       "    .dataframe thead th {\n",
       "        text-align: right;\n",
       "    }\n",
       "</style>\n",
       "<table border=\"1\" class=\"dataframe\">\n",
       "  <thead>\n",
       "    <tr style=\"text-align: right;\">\n",
       "      <th></th>\n",
       "      <th>alexis</th>\n",
       "      <th>caitlyn</th>\n",
       "      <th>clement1</th>\n",
       "      <th>clement2</th>\n",
       "    </tr>\n",
       "  </thead>\n",
       "  <tbody>\n",
       "    <tr>\n",
       "      <th>wer</th>\n",
       "      <td>0.36</td>\n",
       "      <td>0.38</td>\n",
       "      <td>0.46</td>\n",
       "      <td>0.43</td>\n",
       "    </tr>\n",
       "    <tr>\n",
       "      <th>mer</th>\n",
       "      <td>0.36</td>\n",
       "      <td>0.37</td>\n",
       "      <td>0.45</td>\n",
       "      <td>0.42</td>\n",
       "    </tr>\n",
       "    <tr>\n",
       "      <th>wil</th>\n",
       "      <td>0.50</td>\n",
       "      <td>0.54</td>\n",
       "      <td>0.62</td>\n",
       "      <td>0.59</td>\n",
       "    </tr>\n",
       "    <tr>\n",
       "      <th>wip</th>\n",
       "      <td>0.50</td>\n",
       "      <td>0.46</td>\n",
       "      <td>0.38</td>\n",
       "      <td>0.41</td>\n",
       "    </tr>\n",
       "    <tr>\n",
       "      <th>hits</th>\n",
       "      <td>1555.00</td>\n",
       "      <td>1486.00</td>\n",
       "      <td>1178.00</td>\n",
       "      <td>981.00</td>\n",
       "    </tr>\n",
       "    <tr>\n",
       "      <th>substitutions</th>\n",
       "      <td>452.00</td>\n",
       "      <td>539.00</td>\n",
       "      <td>550.00</td>\n",
       "      <td>408.00</td>\n",
       "    </tr>\n",
       "    <tr>\n",
       "      <th>deletions</th>\n",
       "      <td>392.00</td>\n",
       "      <td>266.00</td>\n",
       "      <td>355.00</td>\n",
       "      <td>280.00</td>\n",
       "    </tr>\n",
       "    <tr>\n",
       "      <th>insertions</th>\n",
       "      <td>20.00</td>\n",
       "      <td>58.00</td>\n",
       "      <td>47.00</td>\n",
       "      <td>32.00</td>\n",
       "    </tr>\n",
       "  </tbody>\n",
       "</table>\n",
       "</div>"
      ],
      "text/plain": [
       "                alexis  caitlyn  clement1  clement2\n",
       "wer               0.36     0.38      0.46      0.43\n",
       "mer               0.36     0.37      0.45      0.42\n",
       "wil               0.50     0.54      0.62      0.59\n",
       "wip               0.50     0.46      0.38      0.41\n",
       "hits           1555.00  1486.00   1178.00    981.00\n",
       "substitutions   452.00   539.00    550.00    408.00\n",
       "deletions       392.00   266.00    355.00    280.00\n",
       "insertions       20.00    58.00     47.00     32.00"
      ]
     },
     "execution_count": 7,
     "metadata": {},
     "output_type": "execute_result"
    }
   ],
   "source": [
    "import pandas as pd\n",
    "\n",
    "pd.DataFrame(error_mesures).round(decimals=2)"
   ]
  },
  {
   "cell_type": "markdown",
   "metadata": {},
   "source": [
    "A bar chart to compare the word error rates."
   ]
  },
  {
   "cell_type": "code",
   "execution_count": 8,
   "metadata": {},
   "outputs": [
    {
     "data": {
      "image/png": "[encoded data removed]",
      "text/plain": [
       "<Figure size 432x288 with 1 Axes>"
      ]
     },
     "metadata": {
      "needs_background": "light"
     },
     "output_type": "display_data"
    }
   ],
   "source": [
    "import matplotlib.pyplot as plt\n",
    "import numpy as np\n",
    "\n",
    "names = []\n",
    "wer = []\n",
    "\n",
    "for name in error_mesures:\n",
    "    names.append(name)\n",
    "    wer.append(error_mesures[name][\"wer\"])\n",
    "mean_wer = np.mean(wer)\n",
    "\n",
    "plt.bar(names,wer)\n",
    "plt.axhline(mean_wer, color=\"red\", label=\"average = \" + str(mean_wer.round(2)))\n",
    "plt.grid(axis='y')\n",
    "plt.ylabel(\"WER\")\n",
    "plt.title(\"Word Error Rates\")\n",
    "plt.legend()\n",
    "plt.show()"
   ]
  },
  {
   "cell_type": "markdown",
   "metadata": {},
   "source": [
    "The WER is around 0.4 which is not so good. When we read the text, we notice indeed that there are still too many errors to really understand what is being said.\n",
    "\n",
    "In comparison, for the \"common voice\" corpus the vosk model is claimed to have a wer of 0.16. This can be explained by the fact that in our corpus we have spontaneous speech instead of text that is read (which is the case of the \"common voice\" corpus)."
   ]
  },
  {
   "cell_type": "markdown",
   "metadata": {},
   "source": [
    "## 3. Influence of the buffer size on the word error rate\n",
    "\n",
    "We check that the buffer size used for the vosk transcription does not have a big impact on the WER."
   ]
  },
  {
   "cell_type": "code",
   "execution_count": 9,
   "metadata": {},
   "outputs": [
    {
     "data": {
      "image/png": "[encoded data removed]",
      "text/plain": [
       "<Figure size 432x288 with 1 Axes>"
      ]
     },
     "metadata": {
      "needs_background": "light"
     },
     "output_type": "display_data"
    }
   ],
   "source": [
    "list_buffer_sizes = [1, 10, 100, 500, 1000, 2000, 4000, 8000, 16000, 32000, \n",
    "                     32000*2, 32000*60, 32000*720]\n",
    "\n",
    "# The framerate=32000 so a buffer of size 32000 represents 1 sec of audio.\n",
    "\n",
    "# Code used to generate the transcripts using different buffer sizes.\n",
    "# It takes quite a long time to run so we put it in comments.\n",
    "\"\"\" \n",
    "file_path = \"corpus_wav/alexis.wav\"\n",
    "for buffer_size in list_buffer_sizes:\n",
    "    vosk_result, delta_time = transcribe(file_path, buffer_size, nb_sec=720)\n",
    "    output_path = \"Transcripts/alexis_buffer_size_\" + str(buffer_size) + \".txt\"\n",
    "    with open(output_path, \"w\") as outfile:  \n",
    "        outfile.write(vosk_result[\"text\"])\n",
    "\"\"\"    \n",
    "list_wer = []\n",
    "\n",
    "name = \"alexis\"\n",
    "nb_caracters = stop_12_min[name]\n",
    "manual_file = \"Transcripts/\" + name + \".docx\"\n",
    "\n",
    "for buffer_size in list_buffer_sizes:\n",
    "    vosk_file = \"Transcripts/alexis_buffer_size_\" + str(buffer_size) + \".txt\"\n",
    "    error_mesures = comparison(manual_file, vosk_file, nb_caracters)\n",
    "    list_wer.append(error_mesures['wer'])\n",
    "mean_wer = np.mean(list_wer)\n",
    "\n",
    "plt.plot(list_buffer_sizes, list_wer, '.-')\n",
    "plt.axhline(mean_wer, color=\"red\", label=\"WER average\")\n",
    "plt.xscale(\"log\")\n",
    "plt.xlabel(\"buffer sizes\")\n",
    "plt.ylabel(\"WER\")\n",
    "plt.title(\"Influence of the buffer size on the word error rate\")\n",
    "plt.grid()\n",
    "plt.legend()\n",
    "plt.show()"
   ]
  },
  {
   "cell_type": "markdown",
   "metadata": {},
   "source": [
    "For all the buffer sizes we tested, the WER is between 0.36 and 0.37, so we admit that the buffer size does not have a lot of influence on the WER."
   ]
  }
 ],
 "metadata": {
  "kernelspec": {
   "display_name": "Python 3",
   "language": "python",
   "name": "python3"
  },
  "language_info": {
   "codemirror_mode": {
    "name": "ipython",
    "version": 3
   },
   "file_extension": ".py",
   "mimetype": "text/x-python",
   "name": "python",
   "nbconvert_exporter": "python",
   "pygments_lexer": "ipython3",
   "version": "3.9.0"
  }
 },
 "nbformat": 4,
 "nbformat_minor": 4
}
