{
 "cells": [
  {
   "cell_type": "markdown",
   "metadata": {},
   "source": [
    "# Evaluation of the transcripts generated with automatic speech recognition.\n",
    "\n",
    "In this notebook, we try to compare manual transcripts with the transcripts automatically generated using vosk.\n",
    "\n",
    "Those transcripts can be found in the [Transcripts](Transcripts/) folder. They are named after the person being interviewed. For each person, only the first 12 minutes of the audio record have been transcribed using vosk. So we have to take into account only the text corresponding to the first 12 minutes of audio in the manual transcripts. To do so, we search manually the last word being said after 12 minutes and take note of total number of caracters from the begining till the end of the last word. We then cut off the rest of the text in the `comparison()` function (see code below for more details).\n",
    "\n",
    "Transcripts written manually:\n",
    "- [alexis.docx](Transcripts/alexis.docx)\n",
    "- [caitlyn.docx](Transcripts/caitlyn.docx)\n",
    "- [clement1.docx](Transcripts/clement1.docx)\n",
    "- [clement2.docx](Transcripts/clement2.docx)\n",
    "\n",
    "Transcripts automatically generated with vosk:\n",
    "- [vosk_alexis.txt](Transcripts/vosk_alexis.txt)\n",
    "- [vosk_caitlyn.txt](Transcripts/vosk_caitlyn.txt)\n",
    "- [vosk_clement1.txt](Transcripts/vosk_clement1.txt)\n",
    "- [vosk_clement2.txt](Transcripts/vosk_clement2.txt)\n",
    "\n",
    "When comparing two corresponding texts, the first thing we notice is that the vosk transcripts do not contain any punctuation, capital letters or paragraphs, whereas the human transcripts contains punctuation, some onomatopoeias which are not in the vosk transcripts (such as \"humm\"), and a special syntax with \"#\" at the beginning and at the end of some paragraphs to indicate that the interviewer is speaking. Another difference is that the numbers in are written in full letters in the vosk transcripts, and with digits in the human transcript. Of course, in addition to these differences there are some errors of transcription\n",
    "\n",
    "Those differences complicate the comparison between the transcripts. The best thing to do would be to find a way to automatically add punctuation to the vosk transcripts. But this being quite hard to do, we decided to (automatically) remove the punctuation from the human transcript, remove the \"#\", the line breaks (marked as \"\\n\"), as well as remove some onomatopeas (\"humm\") and convert digit numbers to written letters. All this is done in the `remove_punctuation()` function. We get simplified manual transcripts.\n",
    "\n",
    "Once this is done, the simplified manual transcripts are considered as the ground truth and we compute the word error rate (`'wer'`) for the vosk transcripts in the `comparison()` function."
   ]
  },
  {
   "cell_type": "code",
   "execution_count": 139,
   "metadata": {},
   "outputs": [
    {
     "data": {
      "text/plain": [
       "{'alexis': {'wer': 0.36015006252605253,\n",
       "  'mer': 0.35717238528317485,\n",
       "  'wil': 0.5027477120564747,\n",
       "  'wip': 0.4972522879435252,\n",
       "  'hits': 1555,\n",
       "  'substitutions': 452,\n",
       "  'deletions': 392,\n",
       "  'insertions': 20},\n",
       " 'caitlyn': {'wer': 0.3766914011348756,\n",
       "  'mer': 0.3673903788846318,\n",
       "  'wil': 0.537274685032102,\n",
       "  'wip': 0.4627253149678981,\n",
       "  'hits': 1486,\n",
       "  'substitutions': 539,\n",
       "  'deletions': 266,\n",
       "  'insertions': 58},\n",
       " 'clement1': {'wer': 0.457033125300048,\n",
       "  'mer': 0.4469483568075117,\n",
       "  'wil': 0.6246789232756114,\n",
       "  'wip': 0.3753210767243886,\n",
       "  'hits': 1178,\n",
       "  'substitutions': 550,\n",
       "  'deletions': 355,\n",
       "  'insertions': 47},\n",
       " 'clement2': {'wer': 0.4313960455362493,\n",
       "  'mer': 0.42328042328042326,\n",
       "  'wil': 0.594222838202449,\n",
       "  'wip': 0.405777161797551,\n",
       "  'hits': 981,\n",
       "  'substitutions': 408,\n",
       "  'deletions': 280,\n",
       "  'insertions': 32}}"
      ]
     },
     "execution_count": 139,
     "metadata": {},
     "output_type": "execute_result"
    }
   ],
   "source": [
    "import jiwer\n",
    "import docx\n",
    "import jiwer\n",
    "import num2words\n",
    "\n",
    "# get_text() converts the manual transcript docx files to a python string.\n",
    "def get_text(filename):\n",
    "    doc = docx.Document(filename)\n",
    "    full_text = []\n",
    "    for para in doc.paragraphs:\n",
    "        full_text.append(para.text)\n",
    "    return '\\n'.join(full_text)  # type: str\n",
    "\n",
    "def remove_punctuation(text):\n",
    "    punctuations = \".,?!#:;°\"  # punctuation marks to be removed\n",
    "    clean_txt = \"\"\n",
    "    for char in text:\n",
    "        if char not in punctuations:\n",
    "            clean_txt += char\n",
    "\n",
    "    clean_txt = clean_txt.lower()  # Capital letters replaced with lower case\n",
    "    clean_txt = clean_txt.replace(\"\\xa0\", \"\")  # Remove non-breaking spaces\n",
    "    clean_txt = clean_txt.replace(\" \\n \", \" \")  # Remove line breaks\n",
    "    clean_txt = clean_txt.replace(\"\\n\", \"\")\n",
    "    clean_txt = clean_txt.replace(\" humm \", \" \")  # Remove \"humm\"\n",
    "    clean_txt = clean_txt.replace(\"’\", \"'\")  # Apostrophes are different (’ vs ')\n",
    "\n",
    "    # We check each word seperatly to see if it is a number written in digits.\n",
    "    # If it is a digit number we replace it with the matching number in letters.\n",
    "    for word in str.split(clean_txt):\n",
    "        if word.isdigit():\n",
    "            len_word = len(word)\n",
    "            number_word = num2words.num2words(int(word), lang='fr')\n",
    "            pos = clean_txt.find(word)\n",
    "            clean_txt = clean_txt[:pos] + number_word + clean_txt[pos+len_word:]  \n",
    "\n",
    "    # num2words doesn't write 21 correctly so we correct it.\n",
    "    clean_txt = clean_txt.replace(\"vingt et un\", \"vingt-et-un\")\n",
    "\n",
    "    return clean_txt\n",
    "\n",
    "# The names used to identify the 4 pairs of transcripts studied.\n",
    "list_names = [\"alexis\", \n",
    "              \"caitlyn\",\n",
    "              \"clement1\",\n",
    "              \"clement2\"]\n",
    "\n",
    "# Number of caracters in the manual transcripts corresponding to the first 12 min\n",
    "# of audio. This has been determined manually.\n",
    "stop_12_min = {\"alexis\": 12313, \n",
    "               \"caitlyn\" : 12033,\n",
    "               \"clement1\" : 10786,\n",
    "               \"clement2\" : 8753}\n",
    "\n",
    "# We comptute the WER for a vosk transcript and other types of error mesures\n",
    "# in the comparison() function using the jiwer library.\n",
    "def comparison(name):\n",
    "    path_to_transcript = \"transcripts/\" + str(name) + \".docx\"\n",
    "    text = get_text(path_to_transcript)  # manual transcription\n",
    "    clean_text = remove_punctuation(text)  # simplified manual transcrition\n",
    "    clean_text = clean_text[:stop_12_min[name]]  # first 12 minutes in transcript\n",
    "    vosk_file = open('transcripts/vosk_' + name + '.txt','r')\n",
    "    vosk_text = vosk_file.read()  # vosk transcription\n",
    "    result = jiwer.compute_measures(clean_text, vosk_text)  # computes WER...\n",
    "    return result\n",
    "\n",
    "# We compute the errors mesures for all the 4 transcriptions.\n",
    "error_mesures = {}\n",
    "for name in list_names:\n",
    "    error_mesures[name] = comparison(name)\n",
    "    \n",
    "error_mesures"
   ]
  },
  {
   "cell_type": "markdown",
   "metadata": {},
   "source": [
    "We save the reults in a json file (see [error_mesures.json](Transcripts/error_mesures.json)):"
   ]
  },
  {
   "cell_type": "code",
   "execution_count": 124,
   "metadata": {},
   "outputs": [],
   "source": [
    "import json\n",
    "\n",
    "with open(\"error_mesures.json\", \"w\") as outfile:  \n",
    "    json.dump(error_mesures, outfile)"
   ]
  },
  {
   "cell_type": "markdown",
   "metadata": {},
   "source": [
    "To better read the result we display it as a data frame."
   ]
  },
  {
   "cell_type": "code",
   "execution_count": 125,
   "metadata": {},
   "outputs": [
    {
     "data": {
      "text/html": [
       "<div>\n",
       "<style scoped>\n",
       "    .dataframe tbody tr th:only-of-type {\n",
       "        vertical-align: middle;\n",
       "    }\n",
       "\n",
       "    .dataframe tbody tr th {\n",
       "        vertical-align: top;\n",
       "    }\n",
       "\n",
       "    .dataframe thead th {\n",
       "        text-align: right;\n",
       "    }\n",
       "</style>\n",
       "<table border=\"1\" class=\"dataframe\">\n",
       "  <thead>\n",
       "    <tr style=\"text-align: right;\">\n",
       "      <th></th>\n",
       "      <th>alexis</th>\n",
       "      <th>caitlyn</th>\n",
       "      <th>clement1</th>\n",
       "      <th>clement2</th>\n",
       "    </tr>\n",
       "  </thead>\n",
       "  <tbody>\n",
       "    <tr>\n",
       "      <th>wer</th>\n",
       "      <td>0.36</td>\n",
       "      <td>0.38</td>\n",
       "      <td>0.46</td>\n",
       "      <td>0.43</td>\n",
       "    </tr>\n",
       "    <tr>\n",
       "      <th>mer</th>\n",
       "      <td>0.36</td>\n",
       "      <td>0.37</td>\n",
       "      <td>0.45</td>\n",
       "      <td>0.42</td>\n",
       "    </tr>\n",
       "    <tr>\n",
       "      <th>wil</th>\n",
       "      <td>0.50</td>\n",
       "      <td>0.54</td>\n",
       "      <td>0.62</td>\n",
       "      <td>0.59</td>\n",
       "    </tr>\n",
       "    <tr>\n",
       "      <th>wip</th>\n",
       "      <td>0.50</td>\n",
       "      <td>0.46</td>\n",
       "      <td>0.38</td>\n",
       "      <td>0.41</td>\n",
       "    </tr>\n",
       "    <tr>\n",
       "      <th>hits</th>\n",
       "      <td>1555.00</td>\n",
       "      <td>1486.00</td>\n",
       "      <td>1178.00</td>\n",
       "      <td>981.00</td>\n",
       "    </tr>\n",
       "    <tr>\n",
       "      <th>substitutions</th>\n",
       "      <td>452.00</td>\n",
       "      <td>539.00</td>\n",
       "      <td>550.00</td>\n",
       "      <td>408.00</td>\n",
       "    </tr>\n",
       "    <tr>\n",
       "      <th>deletions</th>\n",
       "      <td>392.00</td>\n",
       "      <td>266.00</td>\n",
       "      <td>355.00</td>\n",
       "      <td>280.00</td>\n",
       "    </tr>\n",
       "    <tr>\n",
       "      <th>insertions</th>\n",
       "      <td>20.00</td>\n",
       "      <td>58.00</td>\n",
       "      <td>47.00</td>\n",
       "      <td>32.00</td>\n",
       "    </tr>\n",
       "  </tbody>\n",
       "</table>\n",
       "</div>"
      ],
      "text/plain": [
       "                alexis  caitlyn  clement1  clement2\n",
       "wer               0.36     0.38      0.46      0.43\n",
       "mer               0.36     0.37      0.45      0.42\n",
       "wil               0.50     0.54      0.62      0.59\n",
       "wip               0.50     0.46      0.38      0.41\n",
       "hits           1555.00  1486.00   1178.00    981.00\n",
       "substitutions   452.00   539.00    550.00    408.00\n",
       "deletions       392.00   266.00    355.00    280.00\n",
       "insertions       20.00    58.00     47.00     32.00"
      ]
     },
     "execution_count": 125,
     "metadata": {},
     "output_type": "execute_result"
    }
   ],
   "source": [
    "import pandas as pd\n",
    "\n",
    "pd.DataFrame(error_mesures).round(decimals=2)"
   ]
  },
  {
   "cell_type": "markdown",
   "metadata": {},
   "source": [
    "A bar chart to compare the word error rates."
   ]
  },
  {
   "cell_type": "code",
   "execution_count": 138,
   "metadata": {},
   "outputs": [
    {
     "data": {
      "text/plain": [
       "<matplotlib.legend.Legend at 0x7f8770fbee50>"
      ]
     },
     "execution_count": 138,
     "metadata": {},
     "output_type": "execute_result"
    },
    {
     "data": {
      "image/png": "[encoded data removed]",
      "text/plain": [
       "<Figure size 432x288 with 1 Axes>"
      ]
     },
     "metadata": {
      "needs_background": "light"
     },
     "output_type": "display_data"
    }
   ],
   "source": [
    "import matplotlib as pyplot\n",
    "\n",
    "names = []\n",
    "wer = []\n",
    "\n",
    "for name in error_mesures:\n",
    "    names.append(name)\n",
    "    wer.append(error_mesures[name][\"wer\"])\n",
    "mean_wer = np.mean(wer)\n",
    "\n",
    "plt.bar(names,wer)\n",
    "plt.axhline(mean_wer, color=\"red\", label=\"average = \" + str(mean_wer.round(2)))\n",
    "plt.grid(axis='y')\n",
    "plt.ylabel(\"WER\")\n",
    "plt.title(\"Word Error Rates\")\n",
    "plt.legend()"
   ]
  },
  {
   "cell_type": "markdown",
   "metadata": {},
   "source": [
    "The WER is around 0.4 which is not so good. When we read the text, we notice indeed that there are still too many errors to really understand what is being said.\n",
    "\n",
    "In comparison, for the \"common voice\" corpus the vosk model is claimed to have a wer of 0.16. This can be explained by the fact that in our corpus we have spontaneous speech instead of text that is read which is the case of the \"common voice\" corpus."
   ]
  }
 ],
 "metadata": {
  "kernelspec": {
   "display_name": "Python 3",
   "language": "python",
   "name": "python3"
  },
  "language_info": {
   "codemirror_mode": {
    "name": "ipython",
    "version": 3
   },
   "file_extension": ".py",
   "mimetype": "text/x-python",
   "name": "python",
   "nbconvert_exporter": "python",
   "pygments_lexer": "ipython3",
   "version": "3.9.0"
  }
 },
 "nbformat": 4,
 "nbformat_minor": 4
}
