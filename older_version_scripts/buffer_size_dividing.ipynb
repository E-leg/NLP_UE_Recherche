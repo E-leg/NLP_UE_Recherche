{
 "cells": [
  {
   "cell_type": "code",
   "execution_count": 12,
   "metadata": {},
   "outputs": [],
   "source": [
    "from jiwer import wer\n",
    "import docx\n",
    "import unicodedata\n",
    "import jiwer\n",
    "import num2words\n",
    "import matplotlib.pyplot as plt\n",
    "\n",
    "def getText(filename):\n",
    "    doc = docx.Document(filename)\n",
    "    fullText = []\n",
    "    for para in doc.paragraphs:\n",
    "        fullText.append(para.text)\n",
    "    return '\\n'.join(fullText)\n",
    "\n",
    "def removePunctuation(text):\n",
    "    punctuations = \".,?!#:;°\"\n",
    "    cleanText = \"\"\n",
    "    for char in text:\n",
    "        if char not in punctuations:\n",
    "            cleanText += char\n",
    "    cleanText = cleanText.lower()\n",
    "#   cleanText = unicodedata.normalize(\"NFKC\", cleanText)  # pour enlever les \"\\xa0\"\n",
    "    cleanText = cleanText.replace(\"\\xa0\", \"\")\n",
    "    cleanText = cleanText.replace(\" \\n \", \" \")\n",
    "    cleanText = cleanText.replace(\"\\n\", \"\")\n",
    "    cleanText = cleanText.replace(\" humm \", \" \")\n",
    "    cleanText = cleanText.replace(\"’\", \"'\")  # Les apostrophes ne correspondent pas (’ vs ')\n",
    "    for word in str.split(cleanText):\n",
    "        if word.isdigit():\n",
    "            len_word = len(word)\n",
    "            number_word = num2words.num2words(int(word), lang='fr')  # On écrit les chiffres en toutes lettres\n",
    "            pos = cleanText.find(word)\n",
    "            cleanText = cleanText[:pos] + number_word + cleanText[pos+len_word:]            \n",
    "    cleanText = cleanText.replace(\"vingt et un\", \"vingt-et-un\")  # num2words oublie de mettre les -\n",
    "    return cleanText\n",
    "\n",
    "docText = getText(\"Corpus/Alexis.docx\")\n",
    "cleanText = removePunctuation(docText)"
   ]
  },
  {
   "cell_type": "code",
   "execution_count": 26,
   "metadata": {},
   "outputs": [
    {
     "data": {
      "text/plain": [
       "Text(0, 0.5, 'WER')"
      ]
     },
     "execution_count": 26,
     "metadata": {},
     "output_type": "execute_result"
    },
    {
     "data": {
      "image/png": "[encoded data removed]",
      "text/plain": [
       "<Figure size 432x288 with 1 Axes>"
      ]
     },
     "metadata": {
      "needs_background": "light"
     },
     "output_type": "display_data"
    }
   ],
   "source": [
    "WER = []\n",
    "diviseurs = [0.01, 0.1, 0.5, 1, 2, 4, 8, 16, 32, 64, 320, 3200, 32000]\n",
    "\n",
    "for d in diviseurs:\n",
    "    file = open('corpus_txt/vosk_alexis_d' + str(d) + '.txt','r')\n",
    "    vosk_text = file.read()\n",
    "    l = len(vosk_text)\n",
    "    wer = jiwer.compute_measures(cleanText[:l+1000], vosk_text)['wer']\n",
    "    WER.append(wer)\n",
    "    file.close()\n",
    "plt.plot(diviseurs, WER)\n",
    "plt.xscale(\"log\")\n",
    "plt.xlabel(\"diviseur\")\n",
    "plt.ylabel(\"WER\")"
   ]
  },
  {
   "cell_type": "code",
   "execution_count": 25,
   "metadata": {},
   "outputs": [
    {
     "data": {
      "text/plain": [
       "Text(0, 0.5, 'WER')"
      ]
     },
     "execution_count": 25,
     "metadata": {},
     "output_type": "execute_result"
    },
    {
     "data": {
      "image/png": "[encoded data removed]",
      "text/plain": [
       "<Figure size 432x288 with 1 Axes>"
      ]
     },
     "metadata": {
      "needs_background": "light"
     },
     "output_type": "display_data"
    }
   ],
   "source": [
    "plt.bar([str(d) for d in diviseurs], WER)\n",
    "plt.xlabel(\"diviseur\")\n",
    "plt.ylabel(\"WER\")"
   ]
  },
  {
   "cell_type": "code",
   "execution_count": 27,
   "metadata": {},
   "outputs": [],
   "source": [
    "# Pas beaucoup d'influence"
   ]
  },
  {
   "cell_type": "code",
   "execution_count": null,
   "metadata": {},
   "outputs": [],
   "source": [
    "# Le code utilisé pour obtenir les textes transcrits vosk\n",
    "\"\"\"\n",
    "nb_sec = 720 # 12 min\n",
    "SetLogLevel(0)\n",
    "result_list = []\n",
    "\n",
    "\n",
    "\n",
    "t0 = time.time()\n",
    "\n",
    "for diviseur in [0.01, 0.1, 0.5, 1, 2, 4, 8, 16, 32, 64, 320, 3200, 32000]:\n",
    "    wf = wave.open(\"corpus_wav/Alexis.wav\")\n",
    "    rec = KaldiRecognizer(model, wf.getframerate())\n",
    "    \n",
    "    for i in range(int(diviseur * nb_sec)):\n",
    "        data = wf.readframes(int(wf.getframerate() // diviseur))\n",
    "        rec.AcceptWaveform(data)\n",
    "\n",
    "    res = rec.FinalResult()\n",
    "    result = json.loads(res)\n",
    "    text = result[\"text\"]\n",
    "    new_file = open(r'corpus_txt/vosk_alexis_d' + str(diviseur) + '.txt','w')\n",
    "    new_file.write(text)\n",
    "    new_file.close()\n",
    "    \n",
    "    result_list.append(result)\n",
    "\n",
    "    wf.close()\n",
    "\n",
    "Delta_t = time.time() - t0\n",
    "print(Delta_t)\n",
    "\"\"\""
   ]
  }
 ],
 "metadata": {
  "kernelspec": {
   "display_name": "Python 3",
   "language": "python",
   "name": "python3"
  },
  "language_info": {
   "codemirror_mode": {
    "name": "ipython",
    "version": 3
   },
   "file_extension": ".py",
   "mimetype": "text/x-python",
   "name": "python",
   "nbconvert_exporter": "python",
   "pygments_lexer": "ipython3",
   "version": "3.8.3"
  }
 },
 "nbformat": 4,
 "nbformat_minor": 4
}
