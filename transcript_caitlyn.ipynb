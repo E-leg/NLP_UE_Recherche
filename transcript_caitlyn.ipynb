{
 "cells": [
  {
   "cell_type": "markdown",
   "metadata": {},
   "source": [
    "# Transcription vosk Caitlyn\n",
    "12 min, wer=0.378"
   ]
  },
  {
   "cell_type": "code",
   "execution_count": 1,
   "metadata": {},
   "outputs": [],
   "source": [
    "import wave\n",
    "import json\n",
    "import time\n",
    "import vosk\n",
    "from vosk import Model, KaldiRecognizer, SetLogLevel"
   ]
  },
  {
   "cell_type": "code",
   "execution_count": 2,
   "metadata": {},
   "outputs": [
    {
     "data": {
      "text/plain": [
       "_wave_params(nchannels=1, sampwidth=2, framerate=32000, nframes=216603648, comptype='NONE', compname='not compressed')"
      ]
     },
     "execution_count": 2,
     "metadata": {},
     "output_type": "execute_result"
    }
   ],
   "source": [
    "wf_caitlyn = wave.open(\"corpus_wav/Caitlyn.wav\")\n",
    "wf_caitlyn.getparams()"
   ]
  },
  {
   "cell_type": "code",
   "execution_count": 3,
   "metadata": {},
   "outputs": [],
   "source": [
    "model = vosk.Model(\"vosk-model-fr-0.6-linto\")\n",
    "rec = KaldiRecognizer(model, wf_caitlyn.getframerate())"
   ]
  },
  {
   "cell_type": "code",
   "execution_count": 4,
   "metadata": {},
   "outputs": [
    {
     "data": {
      "text/plain": [
       "\"ok c'est bon j'ai lancé l'enregistrement est-ce que du coup j'ai bien ton accord pour que je sois enregistré oui non qu'est jessie avec kathleen il est quatorze heures vingt-deux le dix-huit août plus de sexe féminin will sawyer est avec que fut broches me trompe pas et tu as vingt-deux ans vingt-et-un vingt vingt-deux ans en novembre on y est tu viens de autour de brest région brestoise ouais grosso modo le relecq oui oui c'est ça l'expérience c'est ça a maintenu la mémoire est toujours la rumba neuf te dis-je ben merci beaucoup de stands tu m'accorde pas j'ai cru comprendre la queue était pas tout à fait en vacances est un peu un peu chaud niveau un niveau en maths on chant déménagement fin jeanne mon copain a déménagé son avis l'écume tondre même appartement et du coup voilà je on l'aide à déménager lui de retrouver un autre etc du coup felix alberto un peu partout mais sinon globalement pour une fois je suis en vacances oh oui tu pourrais foireux que d'habitude tu as détruit pendant les vacances c'est ça ouais en fait normalement je travaille tous les étés depuis pam sortie de termes ce que je vais commence à travailler on veut et de l'été entre internat lila et lin je vais travailler une semaine après et après travailler tous les étés jusqu'à cet été lancés dit-il incite à travailler non pas cet été là pour une fois passé le premier été je ne travaille pas depuis ma sortie de deux lycées il est inscrit parce qu'avec le le corona virus t'as pas trouvé ou non c'est la première année où je me suis dit que j'avais pas envie je voulais pas travailler chez décrété le standard si je l'ai pas dessus que je je m'arrêter pour en prend un temps de pause et pouvoir réfléchir tranquillement tout pourront ce que je veux faire après c'est que du coup euh l'as-tu tu me prends un temps pour eux pour réfléchir parce que tu sais pas trop tu vas aller par la suite c'est ça ben en fait euh là je suis l'agent en finir humains vais commencer moins deux et le truc c'est qu'il faut prévoir en avance quand tu veux faire un doctorat ce que tu veux faire et tout ce que tu dois rechercher et tout et vu que je veux faire un doctorat mais shelly pas comment uniquement niveaux etc mais du coup j'hésite pendant un temps aussi pourri a déjà me reposer principal le master the compliqué tico forcément j'étais contente d'avoir une pause et ah et aussi ça permet de voilà de poser les idées se dire ben voilà qu'est-ce que j'aime faire et tous et retombe pour soi aussi vous vous y bat pour une fois j'allais faire et même si financièrement chupa au top du top aussi je préfère prendre un temps pour une fois profiter un peu badoo pouvoir bouger toutefois avoir des amis ou que jusque-là quand tu travailles un peu l'été futé pour avoir un peu plus sans un apport financier pendant l'année c'est ça nous fait du bien de prendre une pause voilà ouais j'étais contente pour une fois là bas c'est comme un aimant là cette année j'ai pas travaillé pendant l'année alors normalement euh j'avais fait mal deux mille trois en travaillant en même temps que mes études spécifiques du coup je me rattraperai en fait à faire baver maman lors d'ailleurs et à retrouver à faire mes études plus un boulot l'année il était en fait même les trois-quarts de la course puisque mes boulots eux continu sur les vacances et je me retrouve pas avoir mes ennemis vacances d'été encore a trahi utilisée qu'en fait nous dormons ça faisait trop accessoirement du coup voilà du coulage et décrété que emma je travaillais pas pour pouvoir me consacrer vraiment entièrement et sous les conseils d'ailleurs de mes professeurs et je me suis dit aussi bas que je n'ai pas bossé aussi cet été parce que je savais que l'été prochain je serai soit en recherche de doctorat est sûrement en train de travailler pour pouvoir financer etc non je je savais que j'allais reprendre encore beaucoup elle jouerait pas de vacances avant longtemps cependant doctorat en a pas plus dit-on je me suis dit que c'était le meilleur moment pour me reposer un peu remonté c'est le gars le moment ou prendre une pause avant un an avant devrait enchaîner sur une vie active s'empare donc là c'est bon ça et un et du coup euh parce que ça s'élevait un peu assez lourdement les deux travailler en parallèle des cours step fatigue pas trop fatiguant assis si si si si si si si c'est clairement parce que même si à la fac tu bosses alarmant de septembre jusqu'à avril-mai nous en chimie ont bossé jusqu à peu près à mi-mai c'était là où on finissait nous partiel n'ont que ça parait pas mais du coup ton châle en fait tu fais des journées qui sont longues j'ai eu du bol d'avoir un g von von ouvrages eu la chance parce que je lui trouve un boulot ou en vacances j'étais payé dix euros net de l'heure skype énorme en fait fourrant quelques uns qui pas qualifié tout ce qui permettait d'avoir de avoir beaucoup moins d'heures en fait de pas être obligé d'en faire trop nous j'avais jeté entre dix et quinze heures par semaine nous que ça va mais le truc c'est que qu'on cumule les quinze heures plus les inventeurs à trente heures de cours plus bas de ta fete cours parce que nous on avait dit on a des épées au neutre quarante-quatre quatre en avance et tout va au ciné ça fait beaucoup et euh et voilà je m'estime heureuse parce que moi je m'en sort de base dans mes études donc forcément pour moi cette même si j'aime un boulon plus allait mais c'est si fatiguant et je sais que quand j'arrive aux vacances bah c'est d'ailleurs pour ça qu'on l trois quand j'ai fini melle trois juste avant de la finir je tombais malade et euh ai-je malade fatigué parce que on dernières vacances de l trois les vacances d'avril j'étais claqué en fait je me suis retrouvé à être bas à moitié une sorte de grippe état grippal bizarre parce qu'au val j'étais j'étais épuisé et je fais en mois et demi en fait sans m'arrêter on avait pas de son rouge a vécu le dimanche de repos ce que je bossais le samedi chaussée le mardi soir je c'est jeudi soir à mons a commencé beaucoup donc voilà il me faut un du coup du t'es quand même pas mal acharné au boulot c'était pour eux que t'avais un objectif précis derrière des poignées pour un projet ou je pour financer l année ses confidences à l'ami c'est pour ça que c'était encore plus embêtant va-t-on soit parce que du coup t'étais obligé d'avoir vraiment pour moi je pas chaud alors ça si je voulais pouvoir être indépendant financièrement ce que j ai pas d'apport de mes parents puisqu ils peuvent pas et du coup ben non vu que on alla en fait j'étais chez mes parents et un pendant même l'année des linges rencontre mon copain est en fait on voulait donc vous voulez être indépendant sauf que nos parents n'avaient pas les moyens de le financer notre dépendance du coup on était si vous voulez avoir notre appartement on avait pas le choix que de trouver un travail pour pouvoir être indépendant et c est ce qu on a fait nos qu'en début de l deux on a pu prendre tous les deux un appartement donc à brest et de pouvoir financer mais pour ça il fallait qu'on trouve des boulots à chaque en trouver un et du coup on était tous les deux ans fait affaire étudiants salariés en même temps puisque j'avais pas fait ma famille n'est pas suffisamment pauvres entre guillemets pour pouvoir avoir des bourgs suffisante pour être étonnante mais euh j'en ai jusqu'à la chance d'avoir un peu de bourse mais je suis vous échelons les plus bas quoi de lacets nous c'est pas suffisante pour être indépendant à l'année où que ce soit au volant ou que non que c'était utile si ça avait été trop compliqué y avait toujours le recours chip auparavant mais rentre à la maison style vraiment pour avoir cette indépendance voilà ben on avait un projet aussi au départ parce que selon elle deux on a appris qu'une fin on est là on a appris que notre département de chimie pouvait faire des partenariats avec d'autres universités pour aller à l'étranger et vous voulez faire justement une année d'erasmus à en irlande et c'est aussi pour ça qu'on sidi ben on en profite on regarde si pendant un an on est capable déjà de vivre tout seul sans nos parents de vivre aussi barras deux parce que ça paraît pas mon âge mes pions zombie forcément pour l'afp nicolas un peu tenter le truc et au final en l deux on a appris qu'une projets ne verraient pas le jour parce que université dans laquelle on voulait aller était trop entre guillemets élevé par rapport à notre pauvre petite université de bretagne voilà du coup notre projet est parti à l'aube et du coup on a continué à habiter ensemble du qu'on va très bien ensemble oui non euh désolé et du coup il couvre la nuque coon est resté ensemble l deux l trois et on a continué à travailler ensemble à travailler et à bosser et eric hansen on est là du coup vous nous déménager d'appartement ensemble ou séparément parce qu'en fait ça et moi j'ai réussi ma licence de chimie et du coup j'ai pu avoir mon master et mon master étant strasbourg donc j'ai déménagé entre mâles trois et mon aimant à strasbourg et à du coulage continue d'ailleurs moins d'eau là-bas et à lui par contre en faites sans compter la chimiste par le domaine qu'il intéressé du coup elle trois et là faut-il il avait décroché vingt-trois trois voyait il cherchait justement une reconversion du coup il a passé un an en année sabbatique en groupe pour pour essayer de chercher dia poursuit danser tout court parce que vu qu'on n'a pas l'argent parfois du coup il a travaillé pendant un an et demi dans un à peu près un entre deux carrefours épicerie du coin et du coup il est là puisse financer et il a trouvé une école et c'est pour ça que maintenant la lettre ou une école à lyon nous qui l'ai déménage cet été le cœur mais extrait du coup strasbourg lyon c'est quand même battu près alors c'est quand même vachement plus près cambrai strasbourg pascal bresse strasbourg je suis désolé si entre sept heures et huit heures de train mais avec le problème oui oui voilà ça fait ça fait beaucoup il fait pas en un week-end fin si je les fais en un week-end j'ai pleuré quand je suis rentré le libre choix avant trois heures que j'allais cohabiter chez pas apprécié mais ça se fait mais c'était chiant parce que en plus j'étais loin toulon cette galère mais l'asptt strasbourg lyon c'est quatre heures peu près c'est mieux plus agréable voilà on apprécie un peu plus la chose carla c'est vrai qu'elle est et pour vous quand vous êtes du courant elle deux quand vous avez pris votre appartement c'était vraiment important pour vous d'être d'être indépendant c'est fait quelque chose qui quitte de travailler plus longtemps en fait fin c'était euh g depuis assez jeune chaussettes autonome forgeron j ai toujours voulu partir de chez moi non pas parce que je ne fais pas forcément mais parce que je suis voulu être indépendants voulu euh voilà euh avoir mon autonomie commencer ma vie est tout pour moi c'est quelque chose qui est toujours nécessaire et je sais que le fait d'être parti de chez moi ça aussi amélioré mes relations avec ma mère parce q bar où on grandissait et je me gronde je grandissait et je pense à mon concubin j'avais pas faim j'étais pas d'accord en fait avec certaines c'est d'être con du quotidien mais c'était des choses qui font que bata des tensions et c'est pas agréable\""
      ]
     },
     "execution_count": 4,
     "metadata": {},
     "output_type": "execute_result"
    }
   ],
   "source": [
    "nb_sec = 720 # 12 min\n",
    "SetLogLevel(0)\n",
    "\n",
    "# On analyse l'audio tt les 0.25 sec\n",
    "\n",
    "t0 = time.time()\n",
    "\n",
    "for i in range(4 * nb_sec):\n",
    "    data = wf_caitlyn.readframes(wf_caitlyn.getframerate() // 4)\n",
    "    rec.AcceptWaveform(data)\n",
    "\n",
    "res = rec.FinalResult()\n",
    "\n",
    "wf_caitlyn.close()\n",
    "\n",
    "Delta_t = time.time() - t0\n",
    "result = json.loads(res)\n",
    "result[\"text\"]"
   ]
  },
  {
   "cell_type": "code",
   "execution_count": 5,
   "metadata": {},
   "outputs": [
    {
     "data": {
      "text/plain": [
       "289.35922718048096"
      ]
     },
     "execution_count": 5,
     "metadata": {},
     "output_type": "execute_result"
    }
   ],
   "source": [
    "Delta_t  # vosk transcription time"
   ]
  },
  {
   "cell_type": "markdown",
   "metadata": {},
   "source": [
    "= 4 min 49 sec"
   ]
  },
  {
   "cell_type": "code",
   "execution_count": 7,
   "metadata": {},
   "outputs": [
    {
     "name": "stdout",
     "output_type": "stream",
     "text": [
      "nb_caracters = 11267\n"
     ]
    },
    {
     "data": {
      "text/plain": [
       "\"ok c'est bon j'ai lancé l'enregistrement est-ce que du coup j'ai bien ton accord pour que je sois enregistré oui non qu'est jessie avec kathleen il est quatorze heures vingt-deux le dix-huit août plus de sexe féminin will sawyer est avec que fut broches me trompe pas et tu as vingt-deux ans vingt-et-un vingt vingt-deux ans en novembre on y est tu viens de autour de brest région brestoise ouais grosso modo le relecq oui oui c'est ça l'expérience c'est ça a maintenu la mémoire est toujours la rumba neuf te dis-je ben merci beaucoup de stands tu m'accorde pas j'ai cru comprendre la queue était pas tout à fait en vacances est un peu un peu chaud niveau un niveau en maths on chant déménagement fin jeanne mon copain a déménagé son avis l'écume tondre même appartement et du coup voilà je on l'aide à déménager lui de retrouver un autre etc du coup felix alberto un peu partout mais sinon globalement pour une fois je suis en vacances oh oui tu pourrais foireux que d'habitude tu as détruit pendant les vacances c'est ça ouais en fait normalement je travaille tous les étés depuis pam sortie de termes ce que je vais commence à travailler on veut et de l'été entre internat lila et lin je vais travailler une semaine après et après travailler tous les étés jusqu'à cet été lancés dit-il incite à travailler non pas cet été là pour une fois passé le premier été je ne travaille pas depuis ma sortie de deux lycées il est inscrit parce qu'avec le le corona virus t'as pas trouvé ou non c'est la première année où je me suis dit que j'avais pas envie je voulais pas travailler chez décrété le standard si je l'ai pas dessus que je je m'arrêter pour en prend un temps de pause et pouvoir réfléchir tranquillement tout pourront ce que je veux faire après c'est que du coup euh l'as-tu tu me prends un temps pour eux pour réfléchir parce que tu sais pas trop tu vas aller par la suite c'est ça ben en fait euh là je suis l'agent en finir humains vais commencer moins deux et le truc c'est qu'il faut prévoir en avance quand tu veux faire un doctorat ce que tu veux faire et tout ce que tu dois rechercher et tout et vu que je veux faire un doctorat mais shelly pas comment uniquement niveaux etc mais du coup j'hésite pendant un temps aussi pourri a déjà me reposer principal le master the compliqué tico forcément j'étais contente d'avoir une pause et ah et aussi ça permet de voilà de poser les idées se dire ben voilà qu'est-ce que j'aime faire et tous et retombe pour soi aussi vous vous y bat pour une fois j'allais faire et même si financièrement chupa au top du top aussi je préfère prendre un temps pour une fois profiter un peu badoo pouvoir bouger toutefois avoir des amis ou que jusque-là quand tu travailles un peu l'été futé pour avoir un peu plus sans un apport financier pendant l'année c'est ça nous fait du bien de prendre une pause voilà ouais j'étais contente pour une fois là bas c'est comme un aimant là cette année j'ai pas travaillé pendant l'année alors normalement euh j'avais fait mal deux mille trois en travaillant en même temps que mes études spécifiques du coup je me rattraperai en fait à faire baver maman lors d'ailleurs et à retrouver à faire mes études plus un boulot l'année il était en fait même les trois-quarts de la course puisque mes boulots eux continu sur les vacances et je me retrouve pas avoir mes ennemis vacances d'été encore a trahi utilisée qu'en fait nous dormons ça faisait trop accessoirement du coup voilà du coulage et décrété que emma je travaillais pas pour pouvoir me consacrer vraiment entièrement et sous les conseils d'ailleurs de mes professeurs et je me suis dit aussi bas que je n'ai pas bossé aussi cet été parce que je savais que l'été prochain je serai soit en recherche de doctorat est sûrement en train de travailler pour pouvoir financer etc non je je savais que j'allais reprendre encore beaucoup elle jouerait pas de vacances avant longtemps cependant doctorat en a pas plus dit-on je me suis dit que c'était le meilleur moment pour me reposer un peu remonté c'est le gars le moment ou prendre une pause avant un an avant devrait enchaîner sur une vie active s'empare donc là c'est bon ça et un et du coup euh parce que ça s'élevait un peu assez lourdement les deux travailler en parallèle des cours step fatigue pas trop fatiguant assis si si si si si si si c'est clairement parce que même si à la fac tu bosses alarmant de septembre jusqu'à avril-mai nous en chimie ont bossé jusqu à peu près à mi-mai c'était là où on finissait nous partiel n'ont que ça parait pas mais du coup ton châle en fait tu fais des journées qui sont longues j'ai eu du bol d'avoir un g von von ouvrages eu la chance parce que je lui trouve un boulot ou en vacances j'étais payé dix euros net de l'heure skype énorme en fait fourrant quelques uns qui pas qualifié tout ce qui permettait d'avoir de avoir beaucoup moins d'heures en fait de pas être obligé d'en faire trop nous j'avais jeté entre dix et quinze heures par semaine nous que ça va mais le truc c'est que qu'on cumule les quinze heures plus les inventeurs à trente heures de cours plus bas de ta fete cours parce que nous on avait dit on a des épées au neutre quarante-quatre quatre en avance et tout va au ciné ça fait beaucoup et euh et voilà je m'estime heureuse parce que moi je m'en sort de base dans mes études donc forcément pour moi cette même si j'aime un boulon plus allait mais c'est si fatiguant et je sais que quand j'arrive aux vacances bah c'est d'ailleurs pour ça qu'on l trois quand j'ai fini melle trois juste avant de la finir je tombais malade et euh ai-je malade fatigué parce que on dernières vacances de l trois les vacances d'avril j'étais claqué en fait je me suis retrouvé à être bas à moitié une sorte de grippe état grippal bizarre parce qu'au val j'étais j'étais épuisé et je fais en mois et demi en fait sans m'arrêter on avait pas de son rouge a vécu le dimanche de repos ce que je bossais le samedi chaussée le mardi soir je c'est jeudi soir à mons a commencé beaucoup donc voilà il me faut un du coup du t'es quand même pas mal acharné au boulot c'était pour eux que t'avais un objectif précis derrière des poignées pour un projet ou je pour financer l année ses confidences à l'ami c'est pour ça que c'était encore plus embêtant va-t-on soit parce que du coup t'étais obligé d'avoir vraiment pour moi je pas chaud alors ça si je voulais pouvoir être indépendant financièrement ce que j ai pas d'apport de mes parents puisqu ils peuvent pas et du coup ben non vu que on alla en fait j'étais chez mes parents et un pendant même l'année des linges rencontre mon copain est en fait on voulait donc vous voulez être indépendant sauf que nos parents n'avaient pas les moyens de le financer notre dépendance du coup on était si vous voulez avoir notre appartement on avait pas le choix que de trouver un travail pour pouvoir être indépendant et c est ce qu on a fait nos qu'en début de l deux on a pu prendre tous les deux un appartement donc à brest et de pouvoir financer mais pour ça il fallait qu'on trouve des boulots à chaque en trouver un et du coup on était tous les deux ans fait affaire étudiants salariés en même temps puisque j'avais pas fait ma famille n'est pas suffisamment pauvres entre guillemets pour pouvoir avoir des bourgs suffisante pour être étonnante mais euh j'en ai jusqu'à la chance d'avoir un peu de bourse mais je suis vous échelons les plus bas quoi de lacets nous c'est pas suffisante pour être indépendant à l'année où que ce soit au volant ou que non que c'était utile si ça avait été trop compliqué y avait toujours le recours chip auparavant mais rentre à la maison style vraiment pour avoir cette indépendance voilà ben on avait un projet aussi au départ parce que selon elle deux on a appris qu'une fin on est là on a appris que notre département de chimie pouvait faire des partenariats avec d'autres universités pour aller à l'étranger et vous voulez faire justement une année d'erasmus à en irlande et c'est aussi pour ça qu'on sidi ben on en profite on regarde si pendant un an on est capable déjà de vivre tout seul sans nos parents de vivre aussi barras deux parce que ça paraît pas mon âge mes pions zombie forcément pour l'afp nicolas un peu tenter le truc et au final en l deux on a appris qu'une projets ne verraient pas le jour parce que université dans laquelle on voulait aller était trop entre guillemets élevé par rapport à notre pauvre petite université de bretagne voilà du coup notre projet est parti à l'aube et du coup on a continué à habiter ensemble du qu'on va très bien ensemble oui non euh désolé et du coup il couvre la nuque coon est resté ensemble l deux l trois et on a continué à travailler ensemble à travailler et à bosser et eric hansen on est là du coup vous nous déménager d'appartement ensemble ou séparément parce qu'en fait ça et moi j'ai réussi ma licence de chimie et du coup j'ai pu avoir mon master et mon master étant strasbourg donc j'ai déménagé entre mâles trois et mon aimant à strasbourg et à du coulage continue d'ailleurs moins d'eau là-bas et à lui par contre en faites sans compter la chimiste par le domaine qu'il intéressé du coup elle trois et là faut-il il avait décroché vingt-trois trois voyait il cherchait justement une reconversion du coup il a passé un an en année sabbatique en groupe pour pour essayer de chercher dia poursuit danser tout court parce que vu qu'on n'a pas l'argent parfois du coup il a travaillé pendant un an et demi dans un à peu près un entre deux carrefours épicerie du coin et du coup il est là puisse financer et il a trouvé une école et c'est pour ça que maintenant la lettre ou une école à lyon nous qui l'ai déménage cet été le cœur mais extrait du coup strasbourg lyon c'est quand même battu près alors c'est quand même vachement plus près cambrai strasbourg pascal bresse strasbourg je suis désolé si entre sept heures et huit heures de train mais avec le problème oui oui voilà ça fait ça fait beaucoup il fait pas en un week-end fin si je les fais en un week-end j'ai pleuré quand je suis rentré le libre choix avant trois heures que j'allais cohabiter chez pas apprécié mais ça se fait mais c'était chiant parce que en plus j'étais loin toulon cette galère mais l'asptt strasbourg lyon c'est quatre heures peu près c'est mieux plus agréable voilà on apprécie un peu plus la chose carla c'est vrai qu'elle est et pour vous quand vous êtes du courant elle deux quand vous avez pris votre appartement c'était vraiment important pour vous d'être d'être indépendant c'est fait quelque chose qui quitte de travailler plus longtemps en fait fin c'était euh g depuis assez jeune chaussettes autonome forgeron j ai toujours voulu partir de chez moi non pas parce que je ne fais pas forcément mais parce que je suis voulu être indépendants voulu euh voilà euh avoir mon autonomie commencer ma vie est tout pour moi c'est quelque chose qui est toujours nécessaire et je sais que le fait d'être parti de chez moi ça aussi amélioré mes relations avec ma mère parce q bar où on grandissait et je me gronde je grandissait et je pense à mon concubin j'avais pas faim j'étais pas d'accord en fait avec certaines c'est d'être con du quotidien mais c'était des choses qui font que bata des tensions et c'est pas agréable\""
      ]
     },
     "execution_count": 7,
     "metadata": {},
     "output_type": "execute_result"
    }
   ],
   "source": [
    "result = json.loads(res)\n",
    "print(\"nb_caracters =\", len(result[\"text\"]))\n",
    "vosk_txt = result[\"text\"]\n",
    "vosk_txt"
   ]
  },
  {
   "cell_type": "markdown",
   "metadata": {},
   "source": [
    "# True transcript"
   ]
  },
  {
   "cell_type": "code",
   "execution_count": 8,
   "metadata": {},
   "outputs": [],
   "source": [
    "from jiwer import wer\n",
    "import docx\n",
    "import unicodedata\n",
    "import jiwer\n",
    "import num2words\n",
    "\n",
    "def getText(filename):\n",
    "    doc = docx.Document(filename)\n",
    "    fullText = []\n",
    "    for para in doc.paragraphs:\n",
    "        fullText.append(para.text)\n",
    "    return '\\n'.join(fullText)\n",
    "\n",
    "def removePunctuation(text):\n",
    "    punctuations = \".,?!#:;°\"\n",
    "    cleanText = \"\"\n",
    "    for char in text:\n",
    "        if char not in punctuations:\n",
    "            cleanText += char\n",
    "    cleanText = cleanText.lower()\n",
    "#   cleanText = unicodedata.normalize(\"NFKC\", cleanText)  # pour enlever les \"\\xa0\"\n",
    "    cleanText = cleanText.replace(\"\\xa0\", \"\")\n",
    "    cleanText = cleanText.replace(\" \\n \", \" \")\n",
    "    cleanText = cleanText.replace(\"\\n\", \"\")\n",
    "    cleanText = cleanText.replace(\" humm \", \" \")\n",
    "    cleanText = cleanText.replace(\"’\", \"'\")  # Les apostrophes ne correspondent pas (’ vs ')\n",
    "    for word in str.split(cleanText):\n",
    "        if word.isdigit():\n",
    "            len_word = len(word)\n",
    "            number_word = num2words.num2words(int(word), lang='fr')  # On écrit les chiffres en toutes lettres\n",
    "            pos = cleanText.find(word)\n",
    "            cleanText = cleanText[:pos] + number_word + cleanText[pos+len_word:]            \n",
    "    cleanText = cleanText.replace(\"vingt et un\", \"vingt-et-un\")  # num2words oublie de mettre les -\n",
    "    return cleanText\n",
    "\n",
    "docText = getText(\"Corpus/Caitlyn.docx\")\n",
    "cleanText = removePunctuation(docText)"
   ]
  },
  {
   "cell_type": "code",
   "execution_count": 9,
   "metadata": {},
   "outputs": [
    {
     "data": {
      "text/plain": [
       "\" donc c'est bon j'ai lancé l'enregistrement est-ce que du coup j'ai bien ton accord pour que ce soit enregistré oui nickel donc je suis avec caitlyn il est 1quatrehvingt-deux le dix-huit août tu es de sexe féminin tu oui ça oui jusque là on est d'accord donc c'est bon jusque là je me trompe pas c'est bon et tu as vingt-deux ans vingt-et-un je vais en avoir vingt-deux en novembre ok ok ok et tu viens de de autour de brest région brestoise ouais grosso modo le relecq oui c'est ça le relecq kerhuon c'est ça pas mal pas mal ma mémoire est toujours là donc ben bravo bravo bravo oui ben déjà ben merci beaucoup de ce temps que tu m'accordes surtout parce que j'ai cru comprendre que tu étais pas tout à fait en vacances c'était un peu un peu chaud niveau niveau temps ouais ben en fait je suis en déménagement enfin en gros j'aide mon copain à déménager puisqu'on avait vécu longtemps dans le même appartement et du coup voilà je on l'aide à déménager et lui doit retrouver un autre etc du coup on fait des allers-retours un peu partout voilà ok mais sinon globalement  pour une fois je suis en vacances pour une fois oui pour une fois ouais ouais ouais parce que d'habitude tu as des trucs pendant les vacances c'est ça ouais alors en fait normalement je travaille tous les étés depuis ben ma sortie de term puisque j'avais commencé à travailler en de de l'été entre la terminale et la l1 j'avais travaillé une semaine à peu près et après j'ai travaillé tous les étés jusqu'à cet été là en fait ok voilà l'été là aussi tu as travaillénon pas cet été là pour une fois ben en fait c'est le premier été où je ne travaille pas depuis ma sortie de de lycée ok et c'est parce que avec le coronavirus tu as pas trouvé ou nan c'est la première année où je me suis dit que j'avais pas envie je voulais pas travailler j'ai décrété que c'est pas grave si j'avais pas de sous que je je m'arrêtais pour prendre un temps de pause et pouvoir réfléchir tranquillement et tout pour ce que je veux faire après etc ok est-ce que du coup là tu tu veux prendre un temps pour pour réfléchir parce que tu ne sais pas trop où tu veux aller par la suite c'est ça ben fait c'est là je suis là je viens de finir mon m1 je vais commencer mon mdeux et le truc c'est qu'il faut prévoir en avance quand tu veux faire un doctorat ce que tu veux faire et tout puisque tu dois rechercher et tout et vu que je veux faire un doctorat mais que je ne savais pas comment ni quand ni où etc ben du coup j'ai essayé de prendre un temps aussi pour ben déjà me reposer parce que ben le le master c'est c'est compliqué du coup forcément j'étais contente d'avoir une pause et et aussi ça permet de de voilà de se poser les idées que ben voilà qu'est-ce j'aime faire et tout c'est un temps un peu pour soi aussi et du coup je me suis dit que ben pour une fois j'allais le faire et que même si financièrement je ne suis pas au top du top c'est je préfère prendre un temps pour une fois profiter un peu ben de pouvoir bouger de pouvoir voir des amis et tout voilà ouais donc jusque là quand tu travaillais un peu l'été c'était pour avoir un peu plus avoir un apport financier pendant l'année et c'est ça et là ça faisait du bien de prendre une pause ouais voilà ouais j'étais contente pour une fois là ben c'est comme en m1 cette année j'ai pas travaillé pendant l'année alors que normalement j'avais fait ma ldeux et ma l3 en travaillant en même temps que mes études ce qui fait que du coup je me retrouvais à faire ben même en l1 d'ailleurs et je me retrouvais à faire mes études plus un boulot l'année et l'été en fait même les trois quart des vacances puisque mes boulots continuaient sur les vacances et je me retrouve en fait à avoir mes études et mes vacances d'été encore à travailler ce qui faisait qu'en fait au bout d'un moment ça faisait trop accessoirement du coup voilà du coup là j'ai décrété que en m1 je travaillais pas pour pouvoir me consacrer vraiment entièrement et sous les conseils d'ailleurs de mes professeurs et je me suis dit aussi que ben j'allais pas beaucoup bosser aussi cet été parce que je savais que l'été prochain je serai soit en recherche de doctorat et sûrement en train de travailler pour pouvoir le financer etc donc je savais que j'allais reprendre encore beaucoup et que j'aurai pas de vacances avant longtemps puisque bon dans le doctorat tu en as pas non plus des tonnes donc je me suis dit que c'était le plus le meilleur moment pour me reposer un peu voilà ouais ok donc c'était le der le moment où de prendre une pause avant avant de ré enchaîner sur une vie active sans fin donc voilà c'est pour ça et et du coup les puisque ça devait être assez lourd non les de travailler en parallèle des cours c'était fati pas trop fatiguant  ah si si si si si si carrément parce que même si à la fac tu bosses généralement de septembre jusqu'à avril mai nous en chimie on bossait jusqu'à à peu près mi-mai c'était là où on finissait nos partiels donc ça paraît pas mais du coup tu enchaînes en fait sur ça fait des journées qui sont longues j'ai eu du bol d'avoir un en vrai j'ai eu de la chance parce qu'en fait j'ai trouvé un boulot où en fait j'étais payé dix euros net de l'heure ce qui est énorme en fait pour quelqu'un qui n'est qualifié et tout ce qui me permettait d'avoir beaucoup moins d'heures en fait de pas être obligée d'en faire trop donc j'avais j'étais entre dix et quinze heures par semaine donc ça va mais le truc c'est que quand on cumule les quinze heures plus les de vingt heures à trente heures de cours plus ben de taffer tes cours parce que nous on avait des on a des tp on a des trucs à rendre des trucs à travailler en avance et tout ben au final ça fait beaucoup et et voilà je m'estime heureuse parce que moi je m'en sors de base dans mes études donc forcément pour moi c'était même si j'avais un boulot en plus ça allait mais c'est vrai que c'est fatiguant et je sais que quand j'arrive aux vacances et ben c'est d'ailleurs pour ça qu'en l3 quand j'ai fini ma l3 juste avant de la finir je suis tombée malade et et je suis tombée malade de fatigue parce que aux dernières vacances de l3 les vacances d'avril j'étais claquée en fait j'étais je me suis retrouvée à être ben à moitié une sorte de grippe état grippal bizarre parce qu'en fait j'étais j'étais épuisée et que j'avais fait un mois et demi en fait sans m'arrêter on n'avait pas de parce qu'en gros j'avais que le dimanche de repos puisque je bossais le samedi je bossais le mardi soir je bossais le jeudi soir du coup à un moment donné ça commence a être beaucoup donc voilà ok et enfin parce que du coup là tu t'es quand même pas mal acharnée au boulot c'était pour que tu avais un objectif précis humm derrière d'épargner pour un projet ou c'était pour te financer à l'année c'était pour me financer à l'année c'est pour ça que c'était encore plus embêtant en fait en soi parce que du coup tu étais obligé d'avoir vraiment ça enfin moi j'avais pas le choix d'avoir ça si je voulais pouvoir être indépendante financièrement parce que j'ai pas d'apport de mes parents parce qu'ils ils peuvent pas et du coup ben vu que en en l1 en fait j'ai je j'étais chez mes parents et pendant mon année de l1 j'ai rencontré mon copain et en fait tout les deux on voulait être indépendant sauf que nos parents n'avaient pas les moyens de financer notre indépendance du coup nous on était si on voulait avoir notre appartement on n'avait pas le choix que de trouver un travail pour pouvoir être indépendant et c'est ce qu'on a fait donc en début de ldeux on a pu prendre tous les deux un appartement donc à brest et de pouvoir financer mais pour ça il fallait qu'on trouve des boulots on en a chacun trouvé un et du coup on était tout les deux en fait à faire étudiants salariés en même temps puisque j'avais pas en fait ma famille n'est pas suffisamment pauvre entre guillemets pour pouvoir avoir des bourses suffisantes pour être autonome mais j'en ai j'ai quand même la chance d'avoir un peu de bourses mais je suis aux échelons les plus bas quoi de la série donc c'est pas suffisant pour être indépendant à l'année ou quoi que ce soit voilà ok donc c'était si si ça avait été trop compliqué y avait toujours le recours chez papa maman pour le recours de rentrer à la maison oui donc c'était vraiment pour avoir cette indépendance voilà ben on avait un projet aussi au départ parce que en l2 on a appris que enfin en l1 on a appris que notre département de chimie pouvait faire des des partenariats avec d'autres universités pour aller à l'étranger et on voulait faire justement une année de erasmus en ireland et c'est aussi pour ça qu'on s'est dit ben on en profite on regarde si pendant un an on est capable déjà de vivre tout seul sans nos parents de vivre aussi ben à deux parce que ben ça paraît pas mais on n'a jamais vécu ensemble donc forcément c'est compliqué voilà donc on a un peu tenté le truc et au final en l2 on a appris que notre projet ne verrait pas le jour parce que l'université dans laquelle on voulait aller était trop entre guillemets élevée par rapport à notre pauvre petite université de bretagne voilà du coup notre ben projet est parti à l'eau et du coup on a continué à habiter ensemble vu qu'on était ben très bien ensemble et toutet du coup du coup voilà du coup on est restés ensemble l2 l3 et on a continué à travailler ensemble à travailler et à bosser et à vivre ensemble et et là du coup vous vous déménagez d'appartement ensemble ou séparément parce que en fait j'ai moi j'ai réussi ma licence de chimie et du coup j'ai pu avoir mon master et mon master est à strasbourg donc j'ai déménagé entre ma l3 et mon m1 à strasbourg et du coup là je continu d'ailleurs mon m2 là-bas et lui par contre en fait il s'est rendu compte que la chimie c'était le domaine qui l'intéressait du coup en l3 il a en fait il avait décroché en l3 ça se voyait et il cherchait justement une reconversion du coup il a passé un an d'année sabbatique en gros pour pour essayer de chercher déjà pour financer tout cours parce que bon vu qu'on n'a pas d'argent on n'a pas trop le choix du coup il a travaillé pendant un an et demi un an à peu près entre deux carrefours dans une épicerie du coin et du coup il a il a pu se financer et il a trouvé une école et c'est pour ça que maintenant là il a trouvé une école à lyon donc il là il déménage cet été ah oui ok mais du coup strasbourg lyon c'est quand même pas tout près alors c'est quand même vachement plus près qu'un brest-strasbourg parce qu'un brest-strasbourg je suis désolée c'est entre sept heures et huit heures de train mais avec le problème oui oui enfin voilà ça fait ça fait beaucoup tu le fais pas en un weekend enfin si je l'ai fait mais en un weekend j'ai pleuré quand je suis rentrée le dimanche soir à vingt-trois heures alors que j'avais cours à huit heures j'ai pas apprécié mais non ça se fait mais c'était chiant parce que en plus j'étais loin et tout donc c'était galère mais là strasbourg lyon c'est quatre heures à peu près c'est un peu mieux c'est plus agréable  voilà on apprécie un peu plus la chose quand même là c'est donc voilà ouais ok et et pour vous quand vous étiez du coup en l2 quand vous avez pris votre appartement c'était vraiment important pour vous d'être indépendants c'est c'est quelque chose qui qui te ouais ben qui me travaillait depuis longtemps en fait enfin c'était j'ai depuis assez jeune je suis assez at-autonome enfin genre j'ai toujours voulu partir de chez moi non pas parce que je m'y plais pas forcément mais parce que j'ai toujours voulu être indépendante voulu voilà avoir mon autonomie commencer ma vie et tout pour moi c'était quelque chose qui était genre nécessaire et je sais que le fait d'être partie de chez moi ça aussi amélioré mes relations avec ma mère parce que ben on grandissait et je me ren on grandissait et je commençais à me rendre compte que ben j'avais pas enfin j'étais pas d'accord en fait avec certaines c'est des trucs cons du quotidien mais c'était des choses qui font que ben tu as des tensions et que c'est pas agréable \""
      ]
     },
     "execution_count": 9,
     "metadata": {},
     "output_type": "execute_result"
    }
   ],
   "source": [
    "cleanText[:12034]  # Tjrs des erreurs 14h22 --> 1quatrehvingt-deux (et vosk le traduit bien)"
   ]
  },
  {
   "cell_type": "markdown",
   "metadata": {},
   "source": [
    "# Comparaison"
   ]
  },
  {
   "cell_type": "code",
   "execution_count": 10,
   "metadata": {},
   "outputs": [
    {
     "data": {
      "text/plain": [
       "{'wer': 0.37887385421213443,\n",
       " 'mer': 0.36936170212765956,\n",
       " 'wil': 0.5388769531065472,\n",
       " 'wip': 0.46112304689345285,\n",
       " 'hits': 1482,\n",
       " 'substitutions': 538,\n",
       " 'deletions': 271,\n",
       " 'insertions': 59}"
      ]
     },
     "execution_count": 10,
     "metadata": {},
     "output_type": "execute_result"
    }
   ],
   "source": [
    "jiwer.compute_measures(cleanText[:12034], vosk_txt)"
   ]
  },
  {
   "cell_type": "code",
   "execution_count": null,
   "metadata": {},
   "outputs": [],
   "source": []
  },
  {
   "cell_type": "code",
   "execution_count": null,
   "metadata": {},
   "outputs": [],
   "source": []
  }
 ],
 "metadata": {
  "kernelspec": {
   "display_name": "Python 3",
   "language": "python",
   "name": "python3"
  },
  "language_info": {
   "codemirror_mode": {
    "name": "ipython",
    "version": 3
   },
   "file_extension": ".py",
   "mimetype": "text/x-python",
   "name": "python",
   "nbconvert_exporter": "python",
   "pygments_lexer": "ipython3",
   "version": "3.8.3"
  }
 },
 "nbformat": 4,
 "nbformat_minor": 4
}
