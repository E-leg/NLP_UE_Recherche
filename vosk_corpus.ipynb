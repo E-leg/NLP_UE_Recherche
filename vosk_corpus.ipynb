{
 "cells": [
  {
   "cell_type": "code",
   "execution_count": 24,
   "metadata": {},
   "outputs": [],
   "source": [
    """"Transcription avec vosk d'un bout de l'audio d'Alexis et comparaison avec la vraie transcription (wer=0.37)"""\n",
    "import wave\n",
    "import json\n",
    "from jiwer import wer\n",
    "import docx\n",
    "import unicodedata\n",
    "import jiwer\n",
    "import num2words\n",
    "import vosk\n",
    "from vosk import Model, KaldiRecognizer, SetLogLevel\n",
    "\n",
    "def getText(filename):\n",
    "    doc = docx.Document(filename)\n",
    "    fullText = []\n",
    "    for para in doc.paragraphs:\n",
    "        fullText.append(para.text)\n",
    "    return '\\n'.join(fullText)\n",
    "\n",
    "def removePunctuation(text):\n",
    "    punctuations = \".,?!#:;°\"\n",
    "    cleanText = \"\"\n",
    "    for char in text:\n",
    "        if char not in punctuations:\n",
    "            cleanText += char\n",
    "    cleanText = cleanText.lower()\n",
    "#   cleanText = unicodedata.normalize(\"NFKC\", cleanText)  # pour enlever les \"\\xa0\"\n",
    "    cleanText = cleanText.replace(\"\\xa0\", \"\")\n",
    "    cleanText = cleanText.replace(\" \\n \", \" \")\n",
    "    cleanText = cleanText.replace(\"\\n\", \"\")\n",
    "    cleanText = cleanText.replace(\" humm \", \" \")\n",
    "    cleanText = cleanText.replace(\"’\", \"'\")  # Les apostrophes ne correspondent pas (’ vs ')\n",
    "    for word in str.split(cleanText):\n",
    "        if word.isdigit():\n",
    "            len_word = len(word)\n",
    "            number_word = num2words.num2words(int(word), lang='fr')  # On écrit les chiffres en toutes lettres \n",
    "            pos = cleanText.find(word)\n",
    "            cleanText = cleanText[:pos] + number_word + cleanText[pos+len_word:]\n",
    "    return cleanText"
   ]
  },
  {
   "cell_type": "code",
   "execution_count": 8,
   "metadata": {},
   "outputs": [
    {
     "data": {
      "text/plain": [
       "_wave_params(nchannels=1, sampwidth=2, framerate=32000, nframes=200562688, comptype='NONE', compname='not compressed')"
      ]
     },
     "execution_count": 8,
     "metadata": {},
     "output_type": "execute_result"
    }
   ],
   "source": [
    "wf_alexis = wave.open(\"corpus_wav/Alexis.wav\")\n",
    "# wf_caitlyn = wave.open(\"corpus_wav/Caitlyn.wav\")\n",
    "# wf_clem1 = wave.open(\"corpus_wav/Clement1.wav\")\n",
    "# wf_clem2 = wave.open(\"corpus_wav/Clement2.wav\")\n",
    "\n",
    "wf_alexis.getparams()"
   ]
  },
  {
   "cell_type": "code",
   "execution_count": 10,
   "metadata": {},
   "outputs": [],
   "source": [
    "model = vosk.Model(\"vosk-model-fr-0.6-linto\")"
   ]
  },
  {
   "cell_type": "code",
   "execution_count": 11,
   "metadata": {},
   "outputs": [],
   "source": [
    "rec = KaldiRecognizer(model, wf_alexis.getframerate())"
   ]
  },
  {
   "cell_type": "code",
   "execution_count": 12,
   "metadata": {},
   "outputs": [],
   "source": [
    "nb_sec = 300 # 5 min\n",
    "\n",
    "SetLogLevel(0)\n",
    "for i in range(4 * nb_sec):\n",
    "    data = wf_alexis.readframes(wf_alexis.getframerate()//4)\n",
    "    rec.AcceptWaveform(data)\n",
    "\n",
    "result = rec.FinalResult()\n",
    "\n",
    "wf_alexis.close()"
   ]
  },
  {
   "cell_type": "code",
   "execution_count": 28,
   "metadata": {},
   "outputs": [
    {
     "name": "stdout",
     "output_type": "stream",
     "text": [
      "4409\n"
     ]
    },
    {
     "data": {
      "text/plain": [
       "\"donc second l'enregistrement est lancé un j'ai bien ton accord pour que pour que pour enregistrer au problème donc que je suis avec alexis il est dix-huit heures on est le vingt-cinq juillet battus de sexe masculin tu as vingt-et-un vingt-deux ans vingt-et-un vingt-et-un tu viens de région parisienne de salle de bain merci de yopougon pour le temps accordé à mon intérieur un tapis de te libérer facilement un peu en vacances sur recommencement je finis mon stage de quatre de manu le dix juillet les en vacances jusqu'au sept septembre et tu les passes sous l'eau dans l'oise en picardie et t'as faim t'as fini ton stage de quatrième année sept un stage emploi un stage en informatique et le sujet c'était le démon et était étaient développement logiciel comment l'améliorer comment solidifier comment simplifier pour les développeurs puissent se concentrer sur l'aspect uniquement développement la production la compilation code etc se fait de manière automatique le plus rapidement le plus efficacement possible et c'est quelque chose qu'il pleut c'était c'était c'est pas mal du tout moi c'était archi cool j'avais un maître de stage que t'es super était déjà hyper à l'écoute car j'avais souvent des feedbacks densité est facile de corriger le tir contiennent aussi des vies entières qui correspondait pas trop à ces attentes les puits et les outils utilisés étaient bien les vu c'est un sujet qui revient fréquemment dans le domaine du développement logiciel c'est juste d'actualité et tu vas continuer à se mettre en place dans plus en plus de boîtes où ça en tout cas de l'avenir moi perso je pense pas m'orienter là-dedans lorsque j'ai fait un peu le tour et puis ça se pense ça m'embêterait sur le long terme mais mais pour une expérience dans un stage d'informatique forcement rester là et un et du coup t'as pas eu trop de mal fin puisque la le confinement et tout tu c'était avant le confinement où t'as pas eu trop de mal à trouver ton stage alors le stage a débuté le vingt-quatre février deux mille vingt je suis resté trois semaines dans les locaux de l'entreprise congo la à la base de cent sept un stage de vingt semaines je suis resté trois semaines dans les locaux de l'entreprise et après-midi envoyé en télétravail et finalement ça pas été une mauvaise chose déjà parce que j'étais beaucoup plus libre dans mon système d'approche et surtout bon ça cellier et au télétravail et à mon maître de stage nombreux étaient hyper libres dont tu s'inquiéter solutions techniques c'est-à-dire partir du moment où vous pouvez argumenter et dire pourquoi je choisi de belles options globales cité a été pris en compte et j'avais pas à me justifier outre les arguments que je pouvais évoquer leur maître de stage me faisais confiance ainsi dire bah voilà j'ai choisi cette option plutôt qu'une autre à cause de tel ou tel problème ou autre boycotté et on était contents d'y c'est bien ça fait plusieurs tests te débrouiller à t'amuser marché ce marché moins de parfaits qu'avant il est un peu plus suspicieux fait un peu peureux ben en fait j'ai utilisé que des outils informatiques j'ai jamais utilisé avant donc il a fallu d'abord que je me forme sur ces outils-là et ça été par itération tu vois j'ai appris sur le tas slot début à vaches savais rien du tout je la regardais je des forums de tuto génial et aux jardin des articles et au final au final mon maître de stage the content de ce que je fais moi je sais pas si je dois gérant de confinement tu as un gros impact quand même parce que les technologies utilisées chez moi et pas forcément les mêmes que celles sursis mais y a quand même eu des choses qui sont sorties des choses positives et puis j'ai eu un super retour de mon maître de stage donc pour moi c'était que bénéfique et tu dis que ton maître de stage était content de ce que tu veux que toi tu savais pas trop j'étais content pas que t'étais pas satisfait non pas que je suis pas satisfaite mais j'estime que c'est plus à mon maître de stage que moi de juger si j'ai répondu à ces critères alors moi je fais des trucs j'espère que ça ça lui a plu à la fin il m'a dit\""
      ]
     },
     "execution_count": 28,
     "metadata": {},
     "output_type": "execute_result"
    }
   ],
   "source": [
    "res = json.loads(result)\n",
    "transc_text = res['text']\n",
    "clean_transc_text = transc_text.replace(\" euh \", \" \")\n",
    "print(len(clean_transc_text))\n",
    "clean_transc_text[:4101]  # On s'arrête un peut avant la fin (pour éviter des phrases coupées) à : \"à la fin il m'a dit\""
   ]
  },
  {
   "cell_type": "code",
   "execution_count": 30,
   "metadata": {},
   "outputs": [
    {
     "data": {
      "text/plain": [
       "\"donc c'est bon l'enregistrement est lancé est-ce que j'ai bien ton accord pour que pour que pour t'enregistrer ouais pas de problème ok nickel donc je suis avec alexis il est dix-huit heures on est le vingt-sept juillet tu es de sexe masculin tu as vingt et un vingt-deux ans vingt et un vingt et un et tu viens de région parisienne c'est ça c'est ça donc ben merci déjà pour le pour le temps que tu accordes à mon interview tu as pu tu as pu te libérer facilement un peu tu es en vacances ouais je suis en vacances là j'ai fini mon stage de quatrième année le dix juillet et je suis en vacances jusqu'au sept septembre à peu près ok et tu les passes où là là je suis dans l'oise en picardie ok et tu as fait un tu as fini ton stage de quatrième année c'est un stage dans quoi c'était un stage en informatique et le sujet c'était le d-box et tout ce qui était développement logiciel comment l'améliorer comment le modifier comment le simplifier pour que les développeurs puissent se concentrer sur l'aspect uniquement développement et que la production la compilation de codes etc soit faite de manière automatique et et le plus rapidement et le plus efficacement possible et c'est quelque chose qui te plaît c'était c'était c'était pas mal du tout ouais c'était archi cool j'avais un maître de stage qui était super il était déjà hyper à l'écoute j'avais souvent des feed-backs donc c'était facile de corriger le tir quand il y avait quelque chose qui déviait un petit peu ou qui correspondait pas trop à ses attentes et puis et puis les outils les outils utilisés étaient bien et vu que c'est un sujet qui revient fréquemment dans le domaine du développement logiciel c'est quelque chose qui est d'actualité et qui va continuer à se mettre en place dans plus en plus de boites et du coup c'est un truc qui a de l'avenir moi perso je ne pense pas m'orienter là-dedans parce que j'ai fait un peu le tour et puis ça je pense que ça m'embêterait sur le long terme mais mais pour une expérience dans un stage d'informatique franchement ouais c'était bien ok et et du coup tu n'as pas eu trop de mal enfin parce que là il y a eu le confinement et tout tu c'était avant le confinement ou tu as pas eu trop de mal à trouver ton stage alors le stage a débuté le vingt-quatre février deux mille vingt et je suis resté trois semaines dans les locaux de l'entreprise donc en gros à à la base c'était censé être un stage de vingt semaines et je suis resté trois semaines dans les locaux de l'entreprise et après ils m'ont envoyé en télétravail et finalement ça a pas été une mauvaise chose déjà parce que j'étais beaucoup plus libre dans mon système d'approche et surtout bon ça s'est surtout lié et au télétravail et à mon maître de stage mais en gros j'étais hyper libre dans tout ce qui était solutions techniques c'est-à-dire à partir du moment où je pouvais argumenter et dire pourquoi j'ai choisi telle ou telle option et ben c'était c'était pris en compte et j'avais pas à me justifier outre les arguments que que je pouvais évoquer tu vois et mon maître de stage il me faisait confiance et si je lui disais ben voilà j'ai j'ai choisi cette option plutôt qu'une autre à à cause de tel tel problème ou autre ben il il était il était content il faisait ben c'est bien et puis tu as fait plusieurs tests tu t'es débrouillé tu as vu ce qui marchait ce qui marchait moins donc parfait d'accord parce que avant il était un peu plus suspicieux enfin un peu plus re ben en fait j'ai utilisé que des outils informatiques que j'ai jamais utilisé avant donc il a fallu d'abord que je me forme sur ces outils là et ça a été par opérations tu vois j'ai appris sur le tas puisque au début j'avais rien du tout donc j'ai regardé j'ai regardé des forums j'ai regardé des tutos j'ai regardé des vidéos j'ai regardé des articles et au final au final je suis mon maître de stage était content de ce que j'ai fait moi je sais pas si je peux dire si je suis content de ce que j'ai fait il y a eu le confinement qui a eu un gros impact quand même parce que les technologies que j'ai utilisé chez moi étaient pas forcément les mêmes que celles qui étaient utilisées sur site mais mais y a y a quand même eu des choses qui sont ressorties des choses positives et puis j'ai eu un un super retour de mon maître de stage donc pour moi c'était que bénéfique et tu dis que ton maître de stage était content de ce que tu faisais et que toi tu savais pas trop si tu étais content ou pas tu tu étais pas satisfait non c'est pas que je suis pas satisfait mais j'estime que c'est plus à mon maître de stage que moi de juger si j'ai répondu à ses critères à lui moi j'ai fait des trucs j'espère que ça ça lui a plu et à la fin il m'a dit\""
      ]
     },
     "execution_count": 30,
     "metadata": {},
     "output_type": "execute_result"
    }
   ],
   "source": [
    "docText = getText(\"Corpus/Alexis.docx\")\n",
    "cleanText = removePunctuation(docText)\n",
    "cleanText[1:4699]  # # On s'arrête à : \"à la fin il m'a dit\""
   ]
  },
  {
   "cell_type": "code",
   "execution_count": null,
   "metadata": {},
   "outputs": [],
   "source": []
  },
  {
   "cell_type": "code",
   "execution_count": 32,
   "metadata": {},
   "outputs": [
    {
     "data": {
      "text/plain": [
       "{'wer': 0.37263626251390436,\n",
       " 'mer': 0.3709856035437431,\n",
       " 'wil': 0.5130666819608098,\n",
       " 'wip': 0.4869333180391902,\n",
       " 'hits': 568,\n",
       " 'substitutions': 165,\n",
       " 'deletions': 166,\n",
       " 'insertions': 4}"
      ]
     },
     "execution_count": 32,
     "metadata": {},
     "output_type": "execute_result"
    }
   ],
   "source": [
    "jiwer.compute_measures(cleanText[1:4699], clean_transc_text[:4101])"
   ]
  },
  {
   "cell_type": "code",
   "execution_count": 146,
   "metadata": {},
   "outputs": [
    {
     "data": {
      "text/plain": [
       "{'wer': 0.3333333333333333,\n",
       " 'mer': 0.2857142857142857,\n",
       " 'wil': 0.40476190476190477,\n",
       " 'wip': 0.5952380952380952,\n",
       " 'hits': 5,\n",
       " 'substitutions': 1,\n",
       " 'deletions': 0,\n",
       " 'insertions': 1}"
      ]
     },
     "execution_count": 146,
     "metadata": {},
     "output_type": "execute_result"
    }
   ],
   "source": [
    "jiwer.compute_measures(\"il ete un jour e b\", \"il deux mots un jour e b\")"
   ]
  },
  {
   "cell_type": "code",
   "execution_count": 1,
   "metadata": {},
   "outputs": [],
   "source": [
    "import edit_distance"
   ]
  },
  {
   "cell_type": "code",
   "execution_count": 101,
   "metadata": {},
   "outputs": [],
   "source": [
    "edit_distance.edit_distance(clean_transc_text, cleanText[:2915])\n",
    "        "
   ]
  },
  {
   "cell_type": "code",
   "execution_count": null,
   "metadata": {},
   "outputs": [],
   "source": [
    "jiwer.compute_measures(\"m'a\", \"m’a\") "
   ]
  },
  {
   "cell_type": "code",
   "execution_count": null,
   "metadata": {},
   "outputs": [],
   "source": []
  },
  {
   "cell_type": "code",
   "execution_count": null,
   "metadata": {},
   "outputs": [],
   "source": []
  },
  {
   "cell_type": "code",
   "execution_count": null,
   "metadata": {},
   "outputs": [],
   "source": []
  }
 ],
 "metadata": {
  "kernelspec": {
   "display_name": "Python 3",
   "language": "python",
   "name": "python3"
  },
  "language_info": {
   "codemirror_mode": {
    "name": "ipython",
    "version": 3
   },
   "file_extension": ".py",
   "mimetype": "text/x-python",
   "name": "python",
   "nbconvert_exporter": "python",
   "pygments_lexer": "ipython3",
   "version": "3.8.3"
  }
 },
 "nbformat": 4,
 "nbformat_minor": 4
}
